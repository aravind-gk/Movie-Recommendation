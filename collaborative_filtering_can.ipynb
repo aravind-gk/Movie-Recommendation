{
 "cells": [
  {
   "cell_type": "markdown",
   "metadata": {},
   "source": [
    "## Collaborative Filtering\n",
    "\n",
    "These notebook will compare the performance of _Neural Collaborative Filtering_ **[1]** and _Neural Graph Collaborative Filtering_ **[2]** papers on MovieLens dataset. We would like to see if there is a difference between non-graph based method and a graph-based method on collaborative filtering using MovieLens dataset. We will benefit from [this GitHub repository](https://github.com/talkingwallace/NGCF-pytorch/blob/master/GraphNCF/GCFmodel.py) **[3]** for the implementation of these two models.\n",
    "\n",
    "__Neural Collaborative Filtering:__ When it comes to model the key factor in collaborative filtering -- the interaction between user and item features, they still resorted to matrix factorization and applied an inner product on the latent features of users and items. By replacing the inner product with a neural architecture that can learn an arbitrary function from data, we present a general framework named NCF, short for Neural network-based Collaborative Filtering.\n",
    "\n",
    "__Neural Graph Collaborative Filtering:__ In this work, we propose to integrate the user-item interactions --- more specifically the bipartite graph structure --- into the embedding process. We develop a new recommendation framework Neural Graph Collaborative Filtering (NGCF), which exploits the user-item graph structure by propagating embeddings on it. \n",
    "\n",
    "***\n",
    "\n",
    "### Libraries"
   ]
  },
  {
   "cell_type": "code",
   "execution_count": 12,
   "metadata": {},
   "outputs": [],
   "source": [
    "%matplotlib inline\n",
    "import matplotlib.pyplot as plt\n",
    "import torch\n",
    "import torch.nn as nn\n",
    "from torch.nn import Module\n",
    "from scipy.sparse import coo_matrix\n",
    "from scipy.sparse import vstack\n",
    "from scipy import sparse\n",
    "import numpy as np\n",
    "import pandas as pd\n",
    "from torch.optim import Adam\n",
    "from torch.nn import MSELoss\n",
    "import time\n",
    "\n",
    "np.random.seed(23)"
   ]
  },
  {
   "cell_type": "markdown",
   "metadata": {},
   "source": [
    "### Data Preprocessing"
   ]
  },
  {
   "cell_type": "code",
   "execution_count": 13,
   "metadata": {},
   "outputs": [],
   "source": [
    "from torch.utils.data import Dataset, DataLoader\n",
    "from torchvision import transforms, utils\n",
    "\n",
    "class RatingsDataset(Dataset):\n",
    "    \"\"\"Ratings Dataset\"\"\"\n",
    "\n",
    "    def __init__(self):\n",
    "        \"\"\"\n",
    "        Args:\n",
    "            csv_file (string): Path to the csv file with ratings.\n",
    "        \"\"\"\n",
    "        self.csv = pd.read_csv('data/ratings.csv')\n",
    "        \n",
    "        self.user_ids = list(self.csv.user_id-1)\n",
    "        self.movie_ids = list(self.csv.movie_id_ml-1)\n",
    "        self.ratings = list(self.csv.rating)\n",
    "        \n",
    "        self.userNums = np.max(self.user_ids)+1\n",
    "        self.movieNums = np.max(self.movie_ids)+1\n",
    "\n",
    "    def __len__(self):\n",
    "        return len(self.csv)\n",
    "\n",
    "    def __getitem__(self, idx):\n",
    "        return {\n",
    "            'user': self.user_ids[idx],\n",
    "            'movie': self.movie_ids[idx], \n",
    "            'rating': self.ratings[idx]\n",
    "        }\n",
    "    \n",
    "    def get_user_number(self):\n",
    "        return self.userNums\n",
    "    \n",
    "    def get_movie_number(self):\n",
    "        return self.movieNums"
   ]
  },
  {
   "cell_type": "code",
   "execution_count": 14,
   "metadata": {},
   "outputs": [],
   "source": [
    "rt = pd.read_csv('data/ratings.csv')\n",
    "rt['user_id'] = rt['user_id'] - 1\n",
    "rt['movie_id_ml'] = rt['movie_id_ml'] - 1\n",
    "\n",
    "dataset = RatingsDataset()\n",
    "\n",
    "train_size = int(0.6 * len(dataset))\n",
    "val_size = int(0.2 * len(dataset))\n",
    "test_size = len(dataset) - train_size - val_size\n",
    "\n",
    "train_dataset, val_dataset, test_dataset = torch.utils.data.random_split(dataset, [train_size, val_size, test_size])"
   ]
  },
  {
   "cell_type": "markdown",
   "metadata": {},
   "source": [
    "### Model Implementation - Neural Collaborative Filtering "
   ]
  },
  {
   "cell_type": "code",
   "execution_count": 15,
   "metadata": {},
   "outputs": [],
   "source": [
    "class NCF(Module):\n",
    "\n",
    "    def __init__(self, userNum, itemNum, dim=64, first_layer=128):\n",
    "        super(NCF, self).__init__()\n",
    "        \n",
    "        self.uEmbd = nn.Embedding(userNum, dim)\n",
    "        self.iEmbd = nn.Embedding(itemNum, dim)\n",
    "        \n",
    "        self.mf_uEmbd = nn.Embedding(userNum, dim)\n",
    "        self.mf_iEmbd = nn.Embedding(itemNum, dim)\n",
    "        \n",
    "        self.mlp = nn.Sequential(nn.Linear(dim*2, first_layer),\n",
    "                                       nn.Dropout(0.25),\n",
    "                                       nn.ReLU(inplace=True),\n",
    "                                       nn.Linear(first_layer, first_layer//2),\n",
    "                                       nn.Dropout(0.25),\n",
    "                                       nn.ReLU(inplace=True),\n",
    "                                       nn.Linear(first_layer//2, first_layer//4),\n",
    "                                       nn.Dropout(0.25),\n",
    "                                       nn.ReLU(inplace=True),\n",
    "                                       nn.Linear(first_layer//4, first_layer//4))\n",
    "        \n",
    "        self.neumf = nn.Linear(dim+first_layer//4, 1)\n",
    "        \n",
    "    def forward(self, userIdx,itemIdx):\n",
    "        uembd = self.uEmbd(userIdx)\n",
    "        iembd = self.iEmbd(itemIdx)\n",
    "        embd = torch.cat([uembd, iembd], dim=1)\n",
    "    \n",
    "        mlp = self.mlp(embd)\n",
    "        mf = self.uEmbd(userIdx)*self.iEmbd(itemIdx)\n",
    "        \n",
    "        prediction = self.neumf(torch.cat([mlp, mf], dim=1))\n",
    "        \n",
    "        return prediction.flatten()"
   ]
  },
  {
   "cell_type": "markdown",
   "metadata": {},
   "source": [
    "### Model Implementation - Neural Graph Collaborative Filtering "
   ]
  },
  {
   "cell_type": "code",
   "execution_count": 16,
   "metadata": {},
   "outputs": [],
   "source": [
    "class GNNLayer(Module):\n",
    "\n",
    "    def __init__(self,inF,outF):\n",
    "\n",
    "        super(GNNLayer,self).__init__()\n",
    "        self.inF = inF\n",
    "        self.outF = outF\n",
    "        self.linear = torch.nn.Linear(in_features=inF,out_features=outF)\n",
    "        self.interActTransform = torch.nn.Linear(in_features=inF,out_features=outF)\n",
    "\n",
    "    def forward(self, laplacianMat,selfLoop,features):\n",
    "        L1 = laplacianMat + selfLoop\n",
    "        L2 = laplacianMat.cuda()\n",
    "        L1 = L1.cuda()\n",
    "        inter_feature = torch.mul(features,features)\n",
    "\n",
    "        inter_part1 = self.linear(torch.sparse.mm(L1,features))\n",
    "        inter_part2 = self.interActTransform(torch.sparse.mm(L2,inter_feature))\n",
    "\n",
    "        return inter_part1+inter_part2\n",
    "    \n",
    "class NGCF(Module):\n",
    "\n",
    "    def __init__(self,userNum,itemNum,rt,embedSize=100,layers=[100,80,50],useCuda=True):\n",
    "\n",
    "        super(NGCF,self).__init__()\n",
    "        self.useCuda = useCuda\n",
    "        self.userNum = userNum\n",
    "        self.itemNum = itemNum\n",
    "        self.uEmbd = nn.Embedding(userNum,embedSize)\n",
    "        self.iEmbd = nn.Embedding(itemNum,embedSize)\n",
    "        self.GNNlayers = torch.nn.ModuleList()\n",
    "        self.LaplacianMat = self.buildLaplacianMat(rt) # sparse format\n",
    "        self.selfLoop = self.getSparseEye(self.userNum+self.itemNum)\n",
    "\n",
    "        self.transForm1 = nn.Linear(in_features=layers[-1]*(len(layers))*2,out_features=64)\n",
    "        self.transForm2 = nn.Linear(in_features=64,out_features=32)\n",
    "        self.transForm3 = nn.Linear(in_features=32,out_features=1)\n",
    "\n",
    "        for From,To in zip(layers[:-1],layers[1:]):\n",
    "            self.GNNlayers.append(GNNLayer(From,To))\n",
    "\n",
    "    def getSparseEye(self,num):\n",
    "        i = torch.LongTensor([[k for k in range(0,num)],[j for j in range(0,num)]])\n",
    "        val = torch.FloatTensor([1]*num)\n",
    "        return torch.sparse.FloatTensor(i,val)\n",
    "\n",
    "    def buildLaplacianMat(self,rt):\n",
    "\n",
    "        rt_item = rt['movie_id_ml'] + self.userNum\n",
    "        uiMat = coo_matrix((rt['rating'], (rt['user_id'], rt['movie_id_ml'])))\n",
    "\n",
    "        uiMat_upperPart = coo_matrix((rt['rating'], (rt['user_id'], rt_item)))\n",
    "        uiMat = uiMat.transpose()\n",
    "        uiMat.resize((self.itemNum, self.userNum + self.itemNum))\n",
    "\n",
    "        A = sparse.vstack([uiMat_upperPart,uiMat])\n",
    "        selfLoop = sparse.eye(self.userNum+self.itemNum)\n",
    "        sumArr = (A>0).sum(axis=1)\n",
    "        diag = list(np.array(sumArr.flatten())[0])\n",
    "        diag = np.power(diag,-0.5)\n",
    "        D = sparse.diags(diag)\n",
    "        L = D * A * D\n",
    "        L = sparse.coo_matrix(L)\n",
    "        row = L.row\n",
    "        col = L.col\n",
    "        i = torch.LongTensor([row,col])\n",
    "        data = torch.FloatTensor(L.data)\n",
    "        SparseL = torch.sparse.FloatTensor(i,data)\n",
    "        return SparseL\n",
    "\n",
    "    def getFeatureMat(self):\n",
    "        uidx = torch.LongTensor([i for i in range(self.userNum)])\n",
    "        iidx = torch.LongTensor([i for i in range(self.itemNum)])\n",
    "        if self.useCuda == True:\n",
    "            uidx = uidx.cuda()\n",
    "            iidx = iidx.cuda()\n",
    "\n",
    "        userEmbd = self.uEmbd(uidx)\n",
    "        itemEmbd = self.iEmbd(iidx)\n",
    "        features = torch.cat([userEmbd,itemEmbd],dim=0)\n",
    "        return features\n",
    "\n",
    "    def forward(self,userIdx,itemIdx):\n",
    "\n",
    "        itemIdx = itemIdx + self.userNum\n",
    "        userIdx = list(userIdx.cpu().data)\n",
    "        itemIdx = list(itemIdx.cpu().data)\n",
    "        # gcf data propagation\n",
    "        features = self.getFeatureMat()\n",
    "        finalEmbd = features.clone()\n",
    "        for gnn in self.GNNlayers:\n",
    "            features = gnn(self.LaplacianMat,self.selfLoop,features)\n",
    "            features = nn.LeakyReLU()(features)\n",
    "            finalEmbd = torch.cat([finalEmbd,features.clone()],dim=1)\n",
    "\n",
    "        userEmbd = finalEmbd[userIdx]\n",
    "        itemEmbd = finalEmbd[itemIdx]\n",
    "        embd = torch.cat([userEmbd,itemEmbd],dim=1)\n",
    "\n",
    "        embd = nn.ReLU()(self.transForm1(embd))\n",
    "        embd = nn.ReLU()(self.transForm2(embd))\n",
    "        embd = self.transForm3(embd)\n",
    "        prediction = embd.flatten()\n",
    "\n",
    "        return prediction"
   ]
  },
  {
   "cell_type": "markdown",
   "metadata": {},
   "source": [
    "### Training"
   ]
  },
  {
   "cell_type": "code",
   "execution_count": 17,
   "metadata": {},
   "outputs": [],
   "source": [
    "def train(loader, model, optim, loss):\n",
    "    model.train()\n",
    "    ls = 0.\n",
    "    \n",
    "    for id, batch in enumerate(loader):\n",
    "        optim.zero_grad()\n",
    "        prediction = model(batch['user'].cuda(0), batch['movie'].cuda(0))\n",
    "        loss_ = loss(batch['rating'].float().cuda(0), prediction)\n",
    "        loss_.backward()\n",
    "        optim.step()\n",
    "        ls += loss_.item()\n",
    "        \n",
    "    return ls / len(loader)\n",
    "\n",
    "\n",
    "def evaluate(loader, model, loss):\n",
    "    model.eval()\n",
    "    ls = 0.\n",
    "\n",
    "    with torch.no_grad():\n",
    "        for id, batch in enumerate(loader):\n",
    "            prediction = model(batch['user'].cuda(0), batch['movie'].cuda(0))\n",
    "            loss_ = loss(batch['rating'].float().cuda(0), prediction)\n",
    "            ls += loss_.item()\n",
    "            \n",
    "    return ls / len(loader)"
   ]
  },
  {
   "cell_type": "code",
   "execution_count": 18,
   "metadata": {},
   "outputs": [],
   "source": [
    "def trainer(trainLoader, valLoader, model, optim, loss, epoch, model_name, verbose=True):\n",
    "    \n",
    "    train_losses = []\n",
    "    val_losses = []\n",
    "\n",
    "    best_val = np.inf\n",
    "\n",
    "    for i in range(epoch):\n",
    "        start = time.time()\n",
    "        TL = train(trainLoader, model, optim, loss)\n",
    "        VL = evaluate(valLoader, model, loss)\n",
    "        \n",
    "        if verbose:\n",
    "            print(\"Epoch {} | Train Loss: {:.3f} - Val Loss: {:.3f} - in {:.3f} mins.\".format(i+1, TL, VL, (time.time()-start)/60))\n",
    "\n",
    "        if VL < best_val:\n",
    "            torch.save(model.state_dict(), model_name + '.pth.tar')\n",
    "            best_val = VL\n",
    "\n",
    "        train_losses.append(TL)\n",
    "        val_losses.append(VL)\n",
    "        \n",
    "    torch.save({\n",
    "        'train_losses': train_losses,\n",
    "        'val_losses': val_losses,\n",
    "        'min_val_loss': min(val_losses)\n",
    "    }, model_name + '_loss.pth.tar')\n",
    "        \n",
    "    return torch.load(model_name + '_loss.pth.tar')"
   ]
  },
  {
   "cell_type": "markdown",
   "metadata": {},
   "source": [
    "### NeuMF Training"
   ]
  },
  {
   "cell_type": "code",
   "execution_count": 19,
   "metadata": {},
   "outputs": [],
   "source": [
    "EMBEDDING_DIM = 64\n",
    "\n",
    "GRID_SEARCH = {\n",
    "    'batch_size': [128, 256, 512],\n",
    "    'first_layer': [64, 128, 256],\n",
    "    'learning_rate': [1e-3, 1e-2]\n",
    "}"
   ]
  },
  {
   "cell_type": "code",
   "execution_count": 27,
   "metadata": {},
   "outputs": [
    {
     "name": "stdout",
     "output_type": "stream",
     "text": [
      "Batch Size: 128 | First Layer Neuron: 64 | Learning Rate: 0.001 - Min. Val. Loss: 0.7356434101477648\n",
      "Batch Size: 128 | First Layer Neuron: 64 | Learning Rate: 0.01 - Min. Val. Loss: 0.8046537175392493\n",
      "Batch Size: 128 | First Layer Neuron: 128 | Learning Rate: 0.001 - Min. Val. Loss: 0.7446408038720106\n",
      "Batch Size: 128 | First Layer Neuron: 128 | Learning Rate: 0.01 - Min. Val. Loss: 0.790501879575925\n",
      "Batch Size: 128 | First Layer Neuron: 256 | Learning Rate: 0.001 - Min. Val. Loss: 0.7619099525304941\n",
      "Batch Size: 128 | First Layer Neuron: 256 | Learning Rate: 0.01 - Min. Val. Loss: 0.8142971514891355\n",
      "Batch Size: 256 | First Layer Neuron: 64 | Learning Rate: 0.001 - Min. Val. Loss: 0.7693888277579577\n",
      "Batch Size: 256 | First Layer Neuron: 64 | Learning Rate: 0.01 - Min. Val. Loss: 0.787121845361514\n",
      "Batch Size: 256 | First Layer Neuron: 128 | Learning Rate: 0.001 - Min. Val. Loss: 0.739997902741799\n",
      "Batch Size: 256 | First Layer Neuron: 128 | Learning Rate: 0.01 - Min. Val. Loss: 0.778801692601962\n",
      "Batch Size: 256 | First Layer Neuron: 256 | Learning Rate: 0.001 - Min. Val. Loss: 0.761417181063921\n",
      "Batch Size: 256 | First Layer Neuron: 256 | Learning Rate: 0.01 - Min. Val. Loss: 0.7787258808429425\n",
      "Batch Size: 512 | First Layer Neuron: 64 | Learning Rate: 0.001 - Min. Val. Loss: 0.7433245854500012\n",
      "Batch Size: 512 | First Layer Neuron: 64 | Learning Rate: 0.01 - Min. Val. Loss: 0.7835328028752253\n",
      "Batch Size: 512 | First Layer Neuron: 128 | Learning Rate: 0.001 - Min. Val. Loss: 0.7578102762882526\n",
      "Batch Size: 512 | First Layer Neuron: 128 | Learning Rate: 0.01 - Min. Val. Loss: 0.7696724579884455\n",
      "Batch Size: 512 | First Layer Neuron: 256 | Learning Rate: 0.001 - Min. Val. Loss: 0.7611865676366366\n",
      "Batch Size: 512 | First Layer Neuron: 256 | Learning Rate: 0.01 - Min. Val. Loss: 0.7690369333976355\n"
     ]
    }
   ],
   "source": [
    "for bs in GRID_SEARCH['batch_size']:\n",
    "    for layer in GRID_SEARCH['first_layer']:\n",
    "        for lr in GRID_SEARCH['learning_rate']:\n",
    "            \n",
    "            trainLoader = torch.utils.data.DataLoader(train_dataset, batch_size=bs, shuffle=True, num_workers=4, drop_last=True)\n",
    "            valLoader = torch.utils.data.DataLoader(val_dataset, batch_size=bs, shuffle=False, num_workers=4, drop_last=True)\n",
    "            \n",
    "            model = NCF(dataset.get_user_number(), dataset.get_movie_number(), \n",
    "                        dim=EMBEDDING_DIM, first_layer=layer).cuda(0)\n",
    "            \n",
    "            optim = Adam(model.parameters(), lr=lr)\n",
    "            loss = nn.L1Loss()\n",
    "            epoch = 20\n",
    "            \n",
    "            ncf_out = trainer(trainLoader, valLoader, model, optim, loss, epoch, 'ncf_model', False)\n",
    "            \n",
    "            print(\"Batch Size: {} | First Layer Neuron: {} | Learning Rate: {} - Min. Val. Loss: {}\".format(bs, \n",
    "                                                                                                            layer, \n",
    "                                                                                                            lr, \n",
    "                                                                                                            ncf_out['min_val_loss']))"
   ]
  },
  {
   "cell_type": "code",
   "execution_count": 20,
   "metadata": {},
   "outputs": [
    {
     "name": "stdout",
     "output_type": "stream",
     "text": [
      "Batch Size: 128 | First Layer Neuron: 64 | Learning Rate: 0.001 - Min. Val. Loss: 0.7644386883729544\n"
     ]
    }
   ],
   "source": [
    "bs = 128\n",
    "layer = 64\n",
    "lr = 1e-3\n",
    "EMBEDDING_DIM = 64\n",
    "\n",
    "trainLoader = torch.utils.data.DataLoader(train_dataset, batch_size=bs, shuffle=True, num_workers=4, drop_last=True)\n",
    "valLoader = torch.utils.data.DataLoader(test_dataset, batch_size=bs, shuffle=False, num_workers=4, drop_last=True)\n",
    "\n",
    "model = NCF(dataset.get_user_number(), dataset.get_movie_number(), \n",
    "            dim=EMBEDDING_DIM, first_layer=layer).cuda(0)\n",
    "\n",
    "optim = Adam(model.parameters(), lr=lr)\n",
    "loss = nn.L1Loss()\n",
    "epoch = 40\n",
    "\n",
    "nf_out = trainer(trainLoader, valLoader, model, optim, loss, epoch, 'ncf_model', False)\n",
    "\n",
    "print(\"Batch Size: {} | First Layer Neuron: {} | Learning Rate: {} - Min. Val. Loss: {}\".format(bs, \n",
    "                                                                                                layer, \n",
    "                                                                                                lr, \n",
    "                                                                                                nf_out['min_val_loss']))"
   ]
  },
  {
   "cell_type": "markdown",
   "metadata": {},
   "source": [
    "### NGCF Training"
   ]
  },
  {
   "cell_type": "code",
   "execution_count": 21,
   "metadata": {},
   "outputs": [],
   "source": [
    "EMBEDDING_DIM = 64\n",
    "\n",
    "GRID_SEARCH = {\n",
    "    'batch_size': [256, 512, 1024],\n",
    "    'layers': [[64,64], [64,64,64], [64,64,64,64]]\n",
    "}"
   ]
  },
  {
   "cell_type": "code",
   "execution_count": 31,
   "metadata": {
    "scrolled": true
   },
   "outputs": [
    {
     "name": "stdout",
     "output_type": "stream",
     "text": [
      "Batch Size: 256 | First Layer Neuron: [64, 64] | Learning Rate: 0.001 - Min. Val. Loss: 0.7478925876128368\n",
      "Batch Size: 256 | First Layer Neuron: [64, 64, 64] | Learning Rate: 0.001 - Min. Val. Loss: 0.723776468863854\n",
      "Batch Size: 256 | First Layer Neuron: [64, 64, 64, 64] | Learning Rate: 0.001 - Min. Val. Loss: 0.7210972034014188\n",
      "Batch Size: 512 | First Layer Neuron: [64, 64] | Learning Rate: 0.001 - Min. Val. Loss: 0.746336606832651\n",
      "Batch Size: 512 | First Layer Neuron: [64, 64, 64] | Learning Rate: 0.001 - Min. Val. Loss: 0.7237180119905716\n",
      "Batch Size: 512 | First Layer Neuron: [64, 64, 64, 64] | Learning Rate: 0.001 - Min. Val. Loss: 0.7286107692963038\n",
      "Batch Size: 1024 | First Layer Neuron: [64, 64] | Learning Rate: 0.001 - Min. Val. Loss: 0.7496198196160165\n",
      "Batch Size: 1024 | First Layer Neuron: [64, 64, 64] | Learning Rate: 0.001 - Min. Val. Loss: 0.7319987290783933\n",
      "Batch Size: 1024 | First Layer Neuron: [64, 64, 64, 64] | Learning Rate: 0.001 - Min. Val. Loss: 0.7402098335717854\n"
     ]
    }
   ],
   "source": [
    "for bs in GRID_SEARCH['batch_size']:\n",
    "    for layer in GRID_SEARCH['layers']:     \n",
    "        \n",
    "        trainLoader = torch.utils.data.DataLoader(train_dataset, batch_size=bs, shuffle=True, num_workers=4, drop_last=True)\n",
    "        valLoader = torch.utils.data.DataLoader(val_dataset, batch_size=bs, shuffle=False, num_workers=4, drop_last=True)\n",
    "\n",
    "        model = NGCF(dataset.get_user_number(), dataset.get_movie_number(), rt, EMBEDDING_DIM, layers=layer).cuda(0)\n",
    "        optim = Adam(model.parameters(), lr=1e-3)\n",
    "        loss = nn.L1Loss()\n",
    "        epoch = 20\n",
    "\n",
    "        ncf_out = trainer(trainLoader, valLoader, model, optim, loss, epoch, 'ngcf_model', False)\n",
    "\n",
    "        print(\"Batch Size: {} | First Layer Neuron: {} | Learning Rate: {} - Min. Val. Loss: {}\".format(bs, \n",
    "                                                                                                        layer, \n",
    "                                                                                                        lr, \n",
    "                                                                                                        ncf_out['min_val_loss']))"
   ]
  },
  {
   "cell_type": "code",
   "execution_count": 22,
   "metadata": {},
   "outputs": [
    {
     "name": "stdout",
     "output_type": "stream",
     "text": [
      "Batch Size: 256 | First Layer Neuron: [64, 64, 64, 64] | Learning Rate: 0.001 - Min. Val. Loss: 0.7207981141713949\n"
     ]
    }
   ],
   "source": [
    "bs = 256\n",
    "layer = [64, 64, 64, 64]\n",
    "\n",
    "trainLoader = torch.utils.data.DataLoader(train_dataset, batch_size=bs, shuffle=True, num_workers=4, drop_last=True)\n",
    "valLoader = torch.utils.data.DataLoader(test_dataset, batch_size=bs, shuffle=False, num_workers=4, drop_last=True)\n",
    "\n",
    "model = NGCF(dataset.get_user_number(), dataset.get_movie_number(), rt, EMBEDDING_DIM, layers=layer).cuda(0)\n",
    "optim = Adam(model.parameters(), lr=1e-3)\n",
    "loss = nn.L1Loss()\n",
    "epoch = 40\n",
    "\n",
    "ncf_out = trainer(trainLoader, valLoader, model, optim, loss, epoch, 'ngcf_model', False)\n",
    "\n",
    "print(\"Batch Size: {} | First Layer Neuron: {} | Learning Rate: {} - Min. Val. Loss: {}\".format(bs, \n",
    "                                                                                                layer, \n",
    "                                                                                                lr, \n",
    "                                                                                                ncf_out['min_val_loss']))"
   ]
  },
  {
   "cell_type": "markdown",
   "metadata": {},
   "source": [
    "### Training Results"
   ]
  },
  {
   "cell_type": "code",
   "execution_count": 4,
   "metadata": {},
   "outputs": [],
   "source": [
    "nf_out = torch.load('ncf_model_loss.pth.tar')\n",
    "ncf_out = torch.load('ngcf_model_loss.pth.tar')"
   ]
  },
  {
   "cell_type": "code",
   "execution_count": 23,
   "metadata": {},
   "outputs": [
    {
     "data": {
      "image/png": "[encoded data removed]",
      "text/plain": [
       "<Figure size 432x288 with 1 Axes>"
      ]
     },
     "metadata": {
      "needs_background": "light"
     },
     "output_type": "display_data"
    }
   ],
   "source": [
    "plt.title('NCF vs. NGCF')\n",
    "plt.plot(ncf_out['train_losses'], label='NGCF Train.')\n",
    "plt.plot(ncf_out['val_losses'], label='NGCF Val.', linestyle='--')\n",
    "plt.plot(nf_out['train_losses'], label='NCF Train.')\n",
    "plt.plot(nf_out['val_losses'], label='NCF Val.', linestyle='--')\n",
    "_ = plt.ylabel('L1 Loss')\n",
    "_ = plt.xlabel('Epoch')\n",
    "_ = plt.legend()\n",
    "plt.savefig('ncf_ngcf.png', bbox_inches='tight', dpi=200)"
   ]
  },
  {
   "cell_type": "markdown",
   "metadata": {},
   "source": [
    "***\n",
    "\n",
    "## References\n",
    "\n",
    "[1] _He, Xiangnan, et al. \"Neural collaborative filtering.\" Proceedings of the 26th international conference on world wide web. International World Wide Web Conferences Steering Committee, 2017._\n",
    "\n",
    "[2] _Wang, Xiang, et al. \"Neural Graph Collaborative Filtering.\" arXiv preprint arXiv:1905.08108 (2019)._\n",
    "\n",
    "[3] _https://github.com/talkingwallace/NGCF-pytorch_"
   ]
  }
 ],
 "metadata": {
  "anaconda-cloud": {},
  "kernelspec": {
   "display_name": "project",
   "language": "python",
   "name": "other-env"
  },
  "language_info": {
   "codemirror_mode": {
    "name": "ipython",
    "version": 3
   },
   "file_extension": ".py",
   "mimetype": "text/x-python",
   "name": "python",
   "nbconvert_exporter": "python",
   "pygments_lexer": "ipython3",
   "version": "3.6.8"
  }
 },
 "nbformat": 4,
 "nbformat_minor": 2
}

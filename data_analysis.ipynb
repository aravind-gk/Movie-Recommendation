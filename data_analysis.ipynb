{
 "cells": [
  {
   "cell_type": "code",
   "execution_count": 31,
   "metadata": {
    "collapsed": true
   },
   "outputs": [],
   "source": [
    "import pandas as pd\n",
    "import numpy as np\n",
    "import re\n",
    "from ast import literal_eval"
   ]
  },
  {
   "cell_type": "markdown",
   "metadata": {},
   "source": [
    "# MovieLens dataset"
   ]
  },
  {
   "cell_type": "markdown",
   "metadata": {},
   "source": [
    "Files:\n",
    "```\n",
    "u.data     -- The full u data set, 100000 ratings by 943 users on 1682 items.\n",
    "              Each user has rated at least 20 movies.  Users and items are\n",
    "              numbered consecutively from 1.  The data is randomly\n",
    "              ordered. This is a tab separated list of \n",
    "\t         user id | item id | rating | timestamp. \n",
    "              The time stamps are unix seconds since 1/1/1970 UTC   \n",
    "\n",
    "u.info     -- The number of users, items, and ratings in the u data set.\n",
    "\n",
    "u.item     -- Information about the items (movies); this is a tab separated\n",
    "              list of\n",
    "              movie id | movie title | release date | video release date |\n",
    "              IMDb URL | unknown | Action | Adventure | Animation |\n",
    "              Children's | Comedy | Crime | Documentary | Drama | Fantasy |\n",
    "              Film-Noir | Horror | Musical | Mystery | Romance | Sci-Fi |\n",
    "              Thriller | War | Western |\n",
    "              The last 19 fields are the genres, a 1 indicates the movie\n",
    "              is of that genre, a 0 indicates it is not; movies can be in\n",
    "              several genres at once.\n",
    "              The movie ids are the ones used in the u.data data set.\n",
    "\n",
    "u.genre    -- A list of the genres.\n",
    "\n",
    "u.user     -- Demographic information about the users; this is a tab\n",
    "              separated list of\n",
    "              user id | age | gender | occupation | zip code\n",
    "              The user ids are the ones used in the u.data data set.\n",
    "\n",
    "u.occupation -- A list of the occupations.\n",
    "\n",
    "u1.base    -- The data sets u1.base and u1.test through u5.base and u5.test\n",
    "u1.test       are 80%/20% splits of the u data into training and test data.\n",
    "u2.base       Each of u1, ..., u5 have disjoint test sets; this if for\n",
    "u2.test       5 fold cross validation (where you repeat your experiment\n",
    "u3.base       with each training and test set and average the results).\n",
    "u3.test       These data sets can be generated from u.data by mku.sh.\n",
    "u4.base\n",
    "u4.test\n",
    "u5.base\n",
    "u5.test\n",
    "\n",
    "ua.base    -- The data sets ua.base, ua.test, ub.base, and ub.test\n",
    "ua.test       split the u data into a training set and a test set with\n",
    "ub.base       exactly 10 ratings per user in the test set.  The sets\n",
    "ub.test       ua.test and ub.test are disjoint.  These data sets can\n",
    "              be generated from u.data by mku.sh.\n",
    "```"
   ]
  },
  {
   "cell_type": "markdown",
   "metadata": {},
   "source": [
    "[Movielens](https://movielens.org) is a personalized movie recommendation system.\n",
    "Several datasets have been built using this database, the smallest being Movielens 100k.\n",
    "It contains 100,000 ratings from 1000 users on 1700 movies.\n",
    "Various information is available about the users (e.g., age, gender, occupation, zip code) and the movies (e.g., release date, genre).\n",
    "Additional features can be retrieved as movie titles are available.\n",
    "Two graphs can be built out of this dataset, and they can be connected using the ratings.\n",
    "\n",
    "The main purpose of this data is to build a recommender system that can be formulated as a semi-supervised learning problem: given a user, can you predict the ratings that they will give to a new movie?\n",
    "Graph neural networks can be used for this purpose, but other graph based approaches can be explored as well.\n",
    "\n",
    "| Users graph | Description                       |                         Amount |\n",
    "| ----------- | --------------------------------- | -----------------------------: |\n",
    "| nodes       | users                             |                           1000 |\n",
    "| edges       | similar features                  | depends how the graph is built |\n",
    "| features    | age, gender, occupation, zip code |                              4 |\n",
    "| labels      | ratings of the movies             |                           100k |\n",
    "\n",
    "| Movies graph | Description               |                         Amount |\n",
    "| ------------ | ------------------------- | -----------------------------: |\n",
    "| nodes        | movies                    |                           1700 |\n",
    "| edges        | similar features          | depends how the graph is built |\n",
    "| features     | name, release date, genre |                  2 + 19 genres |\n",
    "| labels       | ratings given by users    |                           100k |\n",
    "\n",
    "* **Data acquisition**: already collected and packaged\n",
    "* **Requires down-sampling**: no\n",
    "* **Network creation**: needs to be built from features\n",
    "\n",
    "Resources:\n",
    "* [Data](https://grouplens.org/datasets/movielens/)\n",
    "* Papers using graph neural networks:\n",
    "  * [Geometric Matrix Completion with Recurrent Multi-Graph Neural Networks](https://arxiv.org/abs/1704.06803)\n",
    "  * [Graph Convolutional Matrix Completion](https://arxiv.org/abs/1706.02263)"
   ]
  },
  {
   "cell_type": "markdown",
   "metadata": {},
   "source": [
    "#### Ratings"
   ]
  },
  {
   "cell_type": "code",
   "execution_count": 32,
   "metadata": {
    "collapsed": false
   },
   "outputs": [
    {
     "name": "stdout",
     "output_type": "stream",
     "text": [
      "(100000, 4)\n",
      "user_id                      int64\n",
      "movie_id_ml                  int64\n",
      "rating                       int64\n",
      "rating_timestamp    datetime64[ns]\n",
      "dtype: object\n"
     ]
    },
    {
     "data": {
      "text/html": [
       "<div>\n",
       "<style scoped>\n",
       "    .dataframe tbody tr th:only-of-type {\n",
       "        vertical-align: middle;\n",
       "    }\n",
       "\n",
       "    .dataframe tbody tr th {\n",
       "        vertical-align: top;\n",
       "    }\n",
       "\n",
       "    .dataframe thead th {\n",
       "        text-align: right;\n",
       "    }\n",
       "</style>\n",
       "<table border=\"1\" class=\"dataframe\">\n",
       "  <thead>\n",
       "    <tr style=\"text-align: right;\">\n",
       "      <th></th>\n",
       "      <th>user_id</th>\n",
       "      <th>movie_id_ml</th>\n",
       "      <th>rating</th>\n",
       "      <th>rating_timestamp</th>\n",
       "    </tr>\n",
       "  </thead>\n",
       "  <tbody>\n",
       "    <tr>\n",
       "      <td>0</td>\n",
       "      <td>196</td>\n",
       "      <td>242</td>\n",
       "      <td>3</td>\n",
       "      <td>1997-12-04 15:55:49</td>\n",
       "    </tr>\n",
       "    <tr>\n",
       "      <td>1</td>\n",
       "      <td>186</td>\n",
       "      <td>302</td>\n",
       "      <td>3</td>\n",
       "      <td>1998-04-04 19:22:22</td>\n",
       "    </tr>\n",
       "    <tr>\n",
       "      <td>2</td>\n",
       "      <td>22</td>\n",
       "      <td>377</td>\n",
       "      <td>1</td>\n",
       "      <td>1997-11-07 07:18:36</td>\n",
       "    </tr>\n",
       "    <tr>\n",
       "      <td>3</td>\n",
       "      <td>244</td>\n",
       "      <td>51</td>\n",
       "      <td>2</td>\n",
       "      <td>1997-11-27 05:02:03</td>\n",
       "    </tr>\n",
       "    <tr>\n",
       "      <td>4</td>\n",
       "      <td>166</td>\n",
       "      <td>346</td>\n",
       "      <td>1</td>\n",
       "      <td>1998-02-02 05:33:16</td>\n",
       "    </tr>\n",
       "  </tbody>\n",
       "</table>\n",
       "</div>"
      ],
      "text/plain": [
       "   user_id  movie_id_ml  rating    rating_timestamp\n",
       "0      196          242       3 1997-12-04 15:55:49\n",
       "1      186          302       3 1998-04-04 19:22:22\n",
       "2       22          377       1 1997-11-07 07:18:36\n",
       "3      244           51       2 1997-11-27 05:02:03\n",
       "4      166          346       1 1998-02-02 05:33:16"
      ]
     },
     "execution_count": 32,
     "metadata": {},
     "output_type": "execute_result"
    }
   ],
   "source": [
    "column_ratings = [\"user_id\", \"movie_id_ml\", \"rating\", \"rating_timestamp\"]\n",
    "\n",
    "df_ratings = pd.read_csv('data/original/u.data', delimiter='\\t', names=column_ratings) \n",
    "df_ratings[\"rating_timestamp\"] = pd.to_datetime(df_ratings[\"rating_timestamp\"], unit=\"s\")\n",
    "\n",
    "print(df_ratings.shape)\n",
    "print(df_ratings.dtypes)\n",
    "df_ratings.head()"
   ]
  },
  {
   "cell_type": "markdown",
   "metadata": {},
   "source": [
    "#### Movies"
   ]
  },
  {
   "cell_type": "code",
   "execution_count": 33,
   "metadata": {
    "collapsed": true
   },
   "outputs": [],
   "source": [
    "def clean_movie_title(movie_title):\n",
    "    if movie_title.split(\" \")[-1].startswith(\"(\"):\n",
    "        # remove year from the title, e.g. Toy Story (1995) --> Toy Story\n",
    "        movie_title = (\" \".join(movie_title.split(\" \")[:-1])).strip()\n",
    "\n",
    "    if movie_title.title().split(',')[-1].strip() in ['The', 'A']:\n",
    "        # article + movie title, e.g. Saint, The --> The Saint\n",
    "        movie_title = (movie_title.title().split(',')[-1].strip() + \" \" + \" \".join(movie_title.title().split(',')[:-1])).strip()\n",
    "\n",
    "    # otherwise, it was converting The Devil's Advocate to The Devil'S Advocate\n",
    "    movie_title = movie_title.lower()\n",
    "    return movie_title"
   ]
  },
  {
   "cell_type": "code",
   "execution_count": 34,
   "metadata": {
    "collapsed": false
   },
   "outputs": [
    {
     "name": "stdout",
     "output_type": "stream",
     "text": [
      "(1767, 23)\n",
      "movie_id_ml     int64\n",
      "title          object\n",
      "release        object\n",
      "url            object\n",
      "unknown         int64\n",
      "action          int64\n",
      "adventure       int64\n",
      "animation       int64\n",
      "childrens       int64\n",
      "comedy          int64\n",
      "crime           int64\n",
      "documentary     int64\n",
      "drama           int64\n",
      "fantasy         int64\n",
      "noir            int64\n",
      "horror          int64\n",
      "musical         int64\n",
      "mystery         int64\n",
      "romance         int64\n",
      "scifi           int64\n",
      "thriller        int64\n",
      "war             int64\n",
      "western         int64\n",
      "dtype: object\n"
     ]
    },
    {
     "data": {
      "text/html": [
       "<div>\n",
       "<style scoped>\n",
       "    .dataframe tbody tr th:only-of-type {\n",
       "        vertical-align: middle;\n",
       "    }\n",
       "\n",
       "    .dataframe tbody tr th {\n",
       "        vertical-align: top;\n",
       "    }\n",
       "\n",
       "    .dataframe thead th {\n",
       "        text-align: right;\n",
       "    }\n",
       "</style>\n",
       "<table border=\"1\" class=\"dataframe\">\n",
       "  <thead>\n",
       "    <tr style=\"text-align: right;\">\n",
       "      <th></th>\n",
       "      <th>movie_id_ml</th>\n",
       "      <th>title</th>\n",
       "      <th>release</th>\n",
       "      <th>url</th>\n",
       "      <th>unknown</th>\n",
       "      <th>action</th>\n",
       "      <th>adventure</th>\n",
       "      <th>animation</th>\n",
       "      <th>childrens</th>\n",
       "      <th>comedy</th>\n",
       "      <th>crime</th>\n",
       "      <th>documentary</th>\n",
       "      <th>drama</th>\n",
       "      <th>fantasy</th>\n",
       "      <th>noir</th>\n",
       "      <th>horror</th>\n",
       "      <th>musical</th>\n",
       "      <th>mystery</th>\n",
       "      <th>romance</th>\n",
       "      <th>scifi</th>\n",
       "      <th>thriller</th>\n",
       "      <th>war</th>\n",
       "      <th>western</th>\n",
       "    </tr>\n",
       "  </thead>\n",
       "  <tbody>\n",
       "    <tr>\n",
       "      <td>0</td>\n",
       "      <td>1</td>\n",
       "      <td>toy story</td>\n",
       "      <td>1995</td>\n",
       "      <td>http://us.imdb.com/M/title-exact?Toy%20Story%2...</td>\n",
       "      <td>0</td>\n",
       "      <td>0</td>\n",
       "      <td>0</td>\n",
       "      <td>1</td>\n",
       "      <td>1</td>\n",
       "      <td>1</td>\n",
       "      <td>0</td>\n",
       "      <td>0</td>\n",
       "      <td>0</td>\n",
       "      <td>0</td>\n",
       "      <td>0</td>\n",
       "      <td>0</td>\n",
       "      <td>0</td>\n",
       "      <td>0</td>\n",
       "      <td>0</td>\n",
       "      <td>0</td>\n",
       "      <td>0</td>\n",
       "      <td>0</td>\n",
       "      <td>0</td>\n",
       "    </tr>\n",
       "    <tr>\n",
       "      <td>1</td>\n",
       "      <td>2</td>\n",
       "      <td>goldeneye</td>\n",
       "      <td>1995</td>\n",
       "      <td>http://us.imdb.com/M/title-exact?GoldenEye%20(...</td>\n",
       "      <td>0</td>\n",
       "      <td>1</td>\n",
       "      <td>1</td>\n",
       "      <td>0</td>\n",
       "      <td>0</td>\n",
       "      <td>0</td>\n",
       "      <td>0</td>\n",
       "      <td>0</td>\n",
       "      <td>0</td>\n",
       "      <td>0</td>\n",
       "      <td>0</td>\n",
       "      <td>0</td>\n",
       "      <td>0</td>\n",
       "      <td>0</td>\n",
       "      <td>0</td>\n",
       "      <td>0</td>\n",
       "      <td>1</td>\n",
       "      <td>0</td>\n",
       "      <td>0</td>\n",
       "    </tr>\n",
       "    <tr>\n",
       "      <td>2</td>\n",
       "      <td>3</td>\n",
       "      <td>four rooms</td>\n",
       "      <td>1995</td>\n",
       "      <td>http://us.imdb.com/M/title-exact?Four%20Rooms%...</td>\n",
       "      <td>0</td>\n",
       "      <td>0</td>\n",
       "      <td>0</td>\n",
       "      <td>0</td>\n",
       "      <td>0</td>\n",
       "      <td>0</td>\n",
       "      <td>0</td>\n",
       "      <td>0</td>\n",
       "      <td>0</td>\n",
       "      <td>0</td>\n",
       "      <td>0</td>\n",
       "      <td>0</td>\n",
       "      <td>0</td>\n",
       "      <td>0</td>\n",
       "      <td>0</td>\n",
       "      <td>0</td>\n",
       "      <td>1</td>\n",
       "      <td>0</td>\n",
       "      <td>0</td>\n",
       "    </tr>\n",
       "    <tr>\n",
       "      <td>3</td>\n",
       "      <td>4</td>\n",
       "      <td>get shorty</td>\n",
       "      <td>1995</td>\n",
       "      <td>http://us.imdb.com/M/title-exact?Get%20Shorty%...</td>\n",
       "      <td>0</td>\n",
       "      <td>1</td>\n",
       "      <td>0</td>\n",
       "      <td>0</td>\n",
       "      <td>0</td>\n",
       "      <td>1</td>\n",
       "      <td>0</td>\n",
       "      <td>0</td>\n",
       "      <td>1</td>\n",
       "      <td>0</td>\n",
       "      <td>0</td>\n",
       "      <td>0</td>\n",
       "      <td>0</td>\n",
       "      <td>0</td>\n",
       "      <td>0</td>\n",
       "      <td>0</td>\n",
       "      <td>0</td>\n",
       "      <td>0</td>\n",
       "      <td>0</td>\n",
       "    </tr>\n",
       "    <tr>\n",
       "      <td>4</td>\n",
       "      <td>5</td>\n",
       "      <td>copycat</td>\n",
       "      <td>1995</td>\n",
       "      <td>http://us.imdb.com/M/title-exact?Copycat%20(1995)</td>\n",
       "      <td>0</td>\n",
       "      <td>0</td>\n",
       "      <td>0</td>\n",
       "      <td>0</td>\n",
       "      <td>0</td>\n",
       "      <td>0</td>\n",
       "      <td>1</td>\n",
       "      <td>0</td>\n",
       "      <td>1</td>\n",
       "      <td>0</td>\n",
       "      <td>0</td>\n",
       "      <td>0</td>\n",
       "      <td>0</td>\n",
       "      <td>0</td>\n",
       "      <td>0</td>\n",
       "      <td>0</td>\n",
       "      <td>1</td>\n",
       "      <td>0</td>\n",
       "      <td>0</td>\n",
       "    </tr>\n",
       "  </tbody>\n",
       "</table>\n",
       "</div>"
      ],
      "text/plain": [
       "   movie_id_ml       title release  \\\n",
       "0            1   toy story    1995   \n",
       "1            2   goldeneye    1995   \n",
       "2            3  four rooms    1995   \n",
       "3            4  get shorty    1995   \n",
       "4            5     copycat    1995   \n",
       "\n",
       "                                                 url  unknown  action  \\\n",
       "0  http://us.imdb.com/M/title-exact?Toy%20Story%2...        0       0   \n",
       "1  http://us.imdb.com/M/title-exact?GoldenEye%20(...        0       1   \n",
       "2  http://us.imdb.com/M/title-exact?Four%20Rooms%...        0       0   \n",
       "3  http://us.imdb.com/M/title-exact?Get%20Shorty%...        0       1   \n",
       "4  http://us.imdb.com/M/title-exact?Copycat%20(1995)        0       0   \n",
       "\n",
       "   adventure  animation  childrens  comedy  crime  documentary  drama  \\\n",
       "0          0          1          1       1      0            0      0   \n",
       "1          1          0          0       0      0            0      0   \n",
       "2          0          0          0       0      0            0      0   \n",
       "3          0          0          0       1      0            0      1   \n",
       "4          0          0          0       0      1            0      1   \n",
       "\n",
       "   fantasy  noir  horror  musical  mystery  romance  scifi  thriller  war  \\\n",
       "0        0     0       0        0        0        0      0         0    0   \n",
       "1        0     0       0        0        0        0      0         1    0   \n",
       "2        0     0       0        0        0        0      0         1    0   \n",
       "3        0     0       0        0        0        0      0         0    0   \n",
       "4        0     0       0        0        0        0      0         1    0   \n",
       "\n",
       "   western  \n",
       "0        0  \n",
       "1        0  \n",
       "2        0  \n",
       "3        0  \n",
       "4        0  "
      ]
     },
     "execution_count": 34,
     "metadata": {},
     "output_type": "execute_result"
    }
   ],
   "source": [
    "column_item = [\"movie_id_ml\", \"title\", \"release\", \"vrelease\", \"url\", \"unknown\", \n",
    "                    \"action\", \"adventure\", \"animation\", \"childrens\", \"comedy\",\n",
    "                   \"crime\", \"documentary\", \"drama\", \"fantasy\", \"noir\", \"horror\",\n",
    "                   \"musical\", \"mystery\", \"romance\", \"scifi\", \"thriller\",\n",
    "                   \"war\", \"western\"]\n",
    "\n",
    "df_ML_movies = pd.read_csv('data/original/u.item', delimiter='|', names=column_item, encoding = \"ISO-8859-1\") \n",
    "df_ML_movies = df_ML_movies.drop(columns=[\"vrelease\"])\n",
    "df_ML_movies[\"title\"] = df_ML_movies[\"title\"].apply(lambda row : clean_movie_title(row))   \n",
    "df_ML_movies[\"release\"] = df_ML_movies[\"release\"].apply(lambda x : str(x).split(\"-\")[-1])\n",
    "\n",
    "# drop rows where movie starts with brackets, those are some strange names...\n",
    "df_ML_movies = df_ML_movies[~df_ML_movies.title.str.startswith(\"(\")]\n",
    "\n",
    "# handle seven (se7en) movies, creating new rows containing the content of brackets\n",
    "_df = df_ML_movies[df_ML_movies.title.str.contains(\"(\", regex=False)]\n",
    "_df.title = _df.title.apply(lambda x: re.search(r'\\((.*?)\\)', x).group(1).strip() if re.search(r'\\((.*?)\\)', x) else x.strip())\n",
    "df_ML_movies = df_ML_movies.append(_df)\n",
    "\n",
    "print(df_ML_movies.shape)\n",
    "print(df_ML_movies.dtypes)\n",
    "df_ML_movies.head()"
   ]
  },
  {
   "cell_type": "markdown",
   "metadata": {},
   "source": [
    "#### Users"
   ]
  },
  {
   "cell_type": "code",
   "execution_count": 35,
   "metadata": {
    "collapsed": false
   },
   "outputs": [
    {
     "data": {
      "text/html": [
       "<div>\n",
       "<style scoped>\n",
       "    .dataframe tbody tr th:only-of-type {\n",
       "        vertical-align: middle;\n",
       "    }\n",
       "\n",
       "    .dataframe tbody tr th {\n",
       "        vertical-align: top;\n",
       "    }\n",
       "\n",
       "    .dataframe thead th {\n",
       "        text-align: right;\n",
       "    }\n",
       "</style>\n",
       "<table border=\"1\" class=\"dataframe\">\n",
       "  <thead>\n",
       "    <tr style=\"text-align: right;\">\n",
       "      <th></th>\n",
       "      <th>user_id</th>\n",
       "      <th>user_age</th>\n",
       "      <th>user_gender</th>\n",
       "      <th>user_occupation</th>\n",
       "      <th>user_zipcode</th>\n",
       "    </tr>\n",
       "  </thead>\n",
       "  <tbody>\n",
       "    <tr>\n",
       "      <td>0</td>\n",
       "      <td>1</td>\n",
       "      <td>24</td>\n",
       "      <td>M</td>\n",
       "      <td>technician</td>\n",
       "      <td>85711</td>\n",
       "    </tr>\n",
       "    <tr>\n",
       "      <td>1</td>\n",
       "      <td>2</td>\n",
       "      <td>53</td>\n",
       "      <td>F</td>\n",
       "      <td>other</td>\n",
       "      <td>94043</td>\n",
       "    </tr>\n",
       "    <tr>\n",
       "      <td>2</td>\n",
       "      <td>3</td>\n",
       "      <td>23</td>\n",
       "      <td>M</td>\n",
       "      <td>writer</td>\n",
       "      <td>32067</td>\n",
       "    </tr>\n",
       "    <tr>\n",
       "      <td>3</td>\n",
       "      <td>4</td>\n",
       "      <td>24</td>\n",
       "      <td>M</td>\n",
       "      <td>technician</td>\n",
       "      <td>43537</td>\n",
       "    </tr>\n",
       "    <tr>\n",
       "      <td>4</td>\n",
       "      <td>5</td>\n",
       "      <td>33</td>\n",
       "      <td>F</td>\n",
       "      <td>other</td>\n",
       "      <td>15213</td>\n",
       "    </tr>\n",
       "  </tbody>\n",
       "</table>\n",
       "</div>"
      ],
      "text/plain": [
       "   user_id  user_age user_gender user_occupation user_zipcode\n",
       "0        1        24           M      technician        85711\n",
       "1        2        53           F           other        94043\n",
       "2        3        23           M          writer        32067\n",
       "3        4        24           M      technician        43537\n",
       "4        5        33           F           other        15213"
      ]
     },
     "execution_count": 35,
     "metadata": {},
     "output_type": "execute_result"
    }
   ],
   "source": [
    "column_user = [\"user_id\", \"user_age\", \"user_gender\", \"user_occupation\", \"user_zipcode\"]\n",
    "\n",
    "df_users = pd.read_csv('data/original/u.user', delimiter='|', names=column_user, encoding = \"ISO-8859-1\") \n",
    "df_users.head()"
   ]
  },
  {
   "cell_type": "markdown",
   "metadata": {},
   "source": [
    "# IMDb dataset"
   ]
  },
  {
   "cell_type": "markdown",
   "metadata": {},
   "source": [
    "Files: \n",
    "```\n",
    "cast_info.csv\n",
    "name.csv\n",
    "title.csv\n",
    "movie_keywords.csv\n",
    "movie_companies.csv\n",
    "company_name.csv\n",
    "keyword.csv\n",
    "role_type.csv\n",
    "```"
   ]
  },
  {
   "cell_type": "markdown",
   "metadata": {},
   "source": [
    "The IMDb datasets contain information such as crew, rating, and genre for every entertainment product in its database. The Kaggle dataset linked above is a smaller, but similar dataset, and could be used instead of the IMDb one, which is much larger. The goal of this project is to analyze this database in graph form, and attempt to recover missing information from data on cast/crew co-appearance in movies. The graphical analysis requires network creation, for which two possible paths are possible, according to which instances one wishes to consider as the nodes of the network.\n",
    "\n",
    "The first approach could be to construct a social network of cast/crew members, where the edges are weighted according to co-appearance For example, actor_1 becomes strongly connected to actor_2 if they have appeared in a lot of movies together. The edges of the graph could be weighted according to a count on the number of entertainment products in which the two corresponding people participated together. We can take as a signal on this constructed graph the aggregate ratings of movies each person has participated in.\n",
    "\n",
    "|          | Description                            |                          Amount |\n",
    "| -------- | -------------------------------------- | ------------------------------: |\n",
    "| nodes    | cast/crew                              | millions (IMDb), ~8500 (Kaggle) |\n",
    "| edges    | co-apearance in movies/TV/etc.         |                  O(10) per node |\n",
    "| features | ratings of movies taken part in        |                  O(10) per node |\n",
    "| labels   | movie genre                            |       unknown (IMDb), 3 (Kaggle)|\n",
    "\n",
    "A second approach could be to create a movie-network, in which movies are strongly connected if they share a lot of crew/cast members (or some other similarity measure combining this and genres, running times, release years, etc.). There are more options for the signal the students could consider on this graph, as they could use either the movie ratings, or the genre labels.\n",
    "\n",
    "|          | Description                                           |                          Amount |\n",
    "| -------- | ----------------------------------------------------- | ------------------------------: |\n",
    "| nodes    | movies                                                | millions (IMDb), ~5000 (Kaggle) |\n",
    "| edges    | count of common cast/crew + other feature similarity. |                  O(10) per node |\n",
    "| features | average rating                                        |                               1 |\n",
    "| labels   | movie genre                                           |      unknown (IMDb), 3 (Kaggle) |\n",
    "\n",
    "For the extra work, there is plenty of extra information. For instance, the students could try to predict the revenue of movies by potentially including extra metadata. Note however that the number of instances in the original dataset is of the order of **millions**, so a smaller subset of those should be used.\n",
    "\n",
    "* **Data acquisition**: already collected and packaged\n",
    "* **Requires down-sampling**: yes if using the original datasets from IMDb, no if using the subsampled dataset from Kaggle\n",
    "* **Network creation**: needs to be built from features\n",
    "\n",
    "Resources:\n",
    "* <https://www.imdb.com/interfaces>\n",
    "* <https://www.kaggle.com/tmdb/tmdb-movie-metadata/home>"
   ]
  },
  {
   "cell_type": "code",
   "execution_count": 36,
   "metadata": {
    "collapsed": false
   },
   "outputs": [
    {
     "name": "stdout",
     "output_type": "stream",
     "text": [
      "cast_id        int64\n",
      "person_id      int64\n",
      "movie_id       int64\n",
      "role_id      float64\n",
      "dtype: object\n",
      "(36243322, 4)\n"
     ]
    },
    {
     "data": {
      "text/html": [
       "<div>\n",
       "<style scoped>\n",
       "    .dataframe tbody tr th:only-of-type {\n",
       "        vertical-align: middle;\n",
       "    }\n",
       "\n",
       "    .dataframe tbody tr th {\n",
       "        vertical-align: top;\n",
       "    }\n",
       "\n",
       "    .dataframe thead th {\n",
       "        text-align: right;\n",
       "    }\n",
       "</style>\n",
       "<table border=\"1\" class=\"dataframe\">\n",
       "  <thead>\n",
       "    <tr style=\"text-align: right;\">\n",
       "      <th></th>\n",
       "      <th>cast_id</th>\n",
       "      <th>person_id</th>\n",
       "      <th>movie_id</th>\n",
       "      <th>role_id</th>\n",
       "    </tr>\n",
       "  </thead>\n",
       "  <tbody>\n",
       "    <tr>\n",
       "      <td>0</td>\n",
       "      <td>1</td>\n",
       "      <td>1</td>\n",
       "      <td>968504</td>\n",
       "      <td>1.0</td>\n",
       "    </tr>\n",
       "    <tr>\n",
       "      <td>1</td>\n",
       "      <td>2</td>\n",
       "      <td>2</td>\n",
       "      <td>2163857</td>\n",
       "      <td>1.0</td>\n",
       "    </tr>\n",
       "    <tr>\n",
       "      <td>2</td>\n",
       "      <td>3</td>\n",
       "      <td>2</td>\n",
       "      <td>2324528</td>\n",
       "      <td>1.0</td>\n",
       "    </tr>\n",
       "    <tr>\n",
       "      <td>3</td>\n",
       "      <td>4</td>\n",
       "      <td>3</td>\n",
       "      <td>1851347</td>\n",
       "      <td>1.0</td>\n",
       "    </tr>\n",
       "    <tr>\n",
       "      <td>4</td>\n",
       "      <td>5</td>\n",
       "      <td>4</td>\n",
       "      <td>1681365</td>\n",
       "      <td>1.0</td>\n",
       "    </tr>\n",
       "  </tbody>\n",
       "</table>\n",
       "</div>"
      ],
      "text/plain": [
       "   cast_id  person_id  movie_id  role_id\n",
       "0        1          1    968504      1.0\n",
       "1        2          2   2163857      1.0\n",
       "2        3          2   2324528      1.0\n",
       "3        4          3   1851347      1.0\n",
       "4        5          4   1681365      1.0"
      ]
     },
     "execution_count": 36,
     "metadata": {},
     "output_type": "execute_result"
    }
   ],
   "source": [
    "column_cast = [\"cast_id\", \"person_id\", \"movie_id\", \"person_role_id\", \"note\", \"nr_order\", \"role_id\"]\n",
    "\n",
    "df_cast = pd.read_csv('data/original/cast_info.csv', delimiter=',', names=column_cast, encoding = \"ISO-8859-1\", low_memory=False) \n",
    "df_cast['role_id'] = pd.to_numeric(df_cast['role_id'], errors='coerce')\n",
    "df_cast = df_cast.drop(columns=[\"note\", \"nr_order\", \"person_role_id\"])\n",
    "\n",
    "print(df_cast.dtypes)\n",
    "print(df_cast.shape)\n",
    "df_cast.head()"
   ]
  },
  {
   "cell_type": "code",
   "execution_count": 37,
   "metadata": {
    "collapsed": false
   },
   "outputs": [
    {
     "name": "stdout",
     "output_type": "stream",
     "text": [
      "person_id        int64\n",
      "cast_name       object\n",
      "imdb_idx        object\n",
      "imdb_id        float64\n",
      "cast_gender     object\n",
      "name_cf         object\n",
      "name_nf         object\n",
      "surname         object\n",
      "md5             object\n",
      "dtype: object\n",
      "(4167491, 9)\n"
     ]
    },
    {
     "data": {
      "text/html": [
       "<div>\n",
       "<style scoped>\n",
       "    .dataframe tbody tr th:only-of-type {\n",
       "        vertical-align: middle;\n",
       "    }\n",
       "\n",
       "    .dataframe tbody tr th {\n",
       "        vertical-align: top;\n",
       "    }\n",
       "\n",
       "    .dataframe thead th {\n",
       "        text-align: right;\n",
       "    }\n",
       "</style>\n",
       "<table border=\"1\" class=\"dataframe\">\n",
       "  <thead>\n",
       "    <tr style=\"text-align: right;\">\n",
       "      <th></th>\n",
       "      <th>person_id</th>\n",
       "      <th>cast_name</th>\n",
       "      <th>cast_gender</th>\n",
       "    </tr>\n",
       "  </thead>\n",
       "  <tbody>\n",
       "    <tr>\n",
       "      <td>0</td>\n",
       "      <td>3343</td>\n",
       "      <td>Abela, Mike</td>\n",
       "      <td>m</td>\n",
       "    </tr>\n",
       "    <tr>\n",
       "      <td>1</td>\n",
       "      <td>446</td>\n",
       "      <td>A., David</td>\n",
       "      <td>m</td>\n",
       "    </tr>\n",
       "    <tr>\n",
       "      <td>2</td>\n",
       "      <td>126</td>\n",
       "      <td>-Alverio, Esteban Rodriguez</td>\n",
       "      <td>m</td>\n",
       "    </tr>\n",
       "    <tr>\n",
       "      <td>3</td>\n",
       "      <td>1678</td>\n",
       "      <td>Abbas, Athar</td>\n",
       "      <td>m</td>\n",
       "    </tr>\n",
       "    <tr>\n",
       "      <td>4</td>\n",
       "      <td>3610</td>\n",
       "      <td>Aberer, Leo</td>\n",
       "      <td>m</td>\n",
       "    </tr>\n",
       "  </tbody>\n",
       "</table>\n",
       "</div>"
      ],
      "text/plain": [
       "   person_id                    cast_name cast_gender\n",
       "0       3343                  Abela, Mike           m\n",
       "1        446                    A., David           m\n",
       "2        126  -Alverio, Esteban Rodriguez           m\n",
       "3       1678                 Abbas, Athar           m\n",
       "4       3610                  Aberer, Leo           m"
      ]
     },
     "execution_count": 37,
     "metadata": {},
     "output_type": "execute_result"
    }
   ],
   "source": [
    "column_people = [\"person_id\", \"cast_name\", \"imdb_idx\", \"imdb_id\", \"cast_gender\", \"name_cf\", \"name_nf\", \"surname\", \"md5\"]\n",
    "\n",
    "df_people = pd.read_csv('data/original/name.csv', delimiter=',', names=column_people, encoding = \"ISO-8859-1\", low_memory=False) \n",
    "\n",
    "print(df_people.dtypes)\n",
    "print(df_people.shape)\n",
    "df_people = df_people.drop(columns=[\"imdb_idx\", \"imdb_id\", \"md5\", \"name_cf\", \"name_nf\", \"surname\"])\n",
    "df_people.head()"
   ]
  },
  {
   "cell_type": "code",
   "execution_count": 38,
   "metadata": {
    "collapsed": false
   },
   "outputs": [
    {
     "name": "stdout",
     "output_type": "stream",
     "text": [
      "movie_id     int64\n",
      "title       object\n",
      "release     object\n",
      "dtype: object\n",
      "(1776458, 3)\n"
     ]
    },
    {
     "data": {
      "text/html": [
       "<div>\n",
       "<style scoped>\n",
       "    .dataframe tbody tr th:only-of-type {\n",
       "        vertical-align: middle;\n",
       "    }\n",
       "\n",
       "    .dataframe tbody tr th {\n",
       "        vertical-align: top;\n",
       "    }\n",
       "\n",
       "    .dataframe thead th {\n",
       "        text-align: right;\n",
       "    }\n",
       "</style>\n",
       "<table border=\"1\" class=\"dataframe\">\n",
       "  <thead>\n",
       "    <tr style=\"text-align: right;\">\n",
       "      <th></th>\n",
       "      <th>movie_id</th>\n",
       "      <th>title</th>\n",
       "      <th>release</th>\n",
       "    </tr>\n",
       "  </thead>\n",
       "  <tbody>\n",
       "    <tr>\n",
       "      <td>1</td>\n",
       "      <td>5156</td>\n",
       "      <td>josie duggar's 1st shoes</td>\n",
       "      <td>2010</td>\n",
       "    </tr>\n",
       "    <tr>\n",
       "      <td>5</td>\n",
       "      <td>40704</td>\n",
       "      <td>anniversary</td>\n",
       "      <td>1971</td>\n",
       "    </tr>\n",
       "    <tr>\n",
       "      <td>7</td>\n",
       "      <td>149337</td>\n",
       "      <td>mellody hobson</td>\n",
       "      <td>2005</td>\n",
       "    </tr>\n",
       "    <tr>\n",
       "      <td>8</td>\n",
       "      <td>32020</td>\n",
       "      <td>kiss me kate</td>\n",
       "      <td>2011</td>\n",
       "    </tr>\n",
       "    <tr>\n",
       "      <td>10</td>\n",
       "      <td>112085</td>\n",
       "      <td>the best of olivia</td>\n",
       "      <td>2008</td>\n",
       "    </tr>\n",
       "  </tbody>\n",
       "</table>\n",
       "</div>"
      ],
      "text/plain": [
       "    movie_id                     title release\n",
       "1       5156  josie duggar's 1st shoes    2010\n",
       "5      40704               anniversary    1971\n",
       "7     149337            mellody hobson    2005\n",
       "8      32020              kiss me kate    2011\n",
       "10    112085        the best of olivia    2008"
      ]
     },
     "execution_count": 38,
     "metadata": {},
     "output_type": "execute_result"
    }
   ],
   "source": [
    "columns_movies = [\"movie_id\", \"title\", \"imdb_idx\",\n",
    "                  \"movie_kind\", \"release\", \"imdb_id\", \"phonetic\", \"episode_id\",\n",
    "                  \"season\", \"episode\", \"series_years\", \"md5\"]\n",
    "\n",
    "df_IMDb_movies = pd.read_csv('data/original/title.csv', delimiter=',', names=columns_movies, encoding = \"ISO-8859-1\", low_memory=False) \n",
    "df_IMDb_movies = df_IMDb_movies.drop(columns=[\"imdb_idx\", \"imdb_id\", \"phonetic\", \"md5\", \"episode_id\", \"episode\", \"movie_kind\", \"season\", \"series_years\"])\n",
    "df_IMDb_movies = df_IMDb_movies.dropna(subset=['release'])\n",
    "df_IMDb_movies[\"release\"] = df_IMDb_movies[\"release\"].apply(lambda x : str(int(x)).split(\"-\")[-1])\n",
    "# we lowered in MovieLens as well\n",
    "df_IMDb_movies = df_IMDb_movies.dropna(subset=[\"title\"])\n",
    "df_IMDb_movies[\"title\"] = df_IMDb_movies[\"title\"].apply(lambda x: x.lower())\n",
    "\n",
    "# drop rows where movie starts with brackets, those are some strange names...\n",
    "df_IMDb_movies = df_IMDb_movies[~df_IMDb_movies.title.str.startswith(\"(\")]\n",
    "\n",
    "# handle seven (se7en) movies, creating new rows containing the content of brackets\n",
    "_df = df_IMDb_movies[df_IMDb_movies.title.str.contains(\"(\", regex=False)]\n",
    "_df.title = _df.title.apply(lambda x: re.search(r'\\((.*?)\\)', x).group(1).strip() if re.search(r'\\((.*?)\\)', x) else x.strip())\n",
    "df_IMDb_movies = df_IMDb_movies.append(_df)\n",
    "\n",
    "print(df_IMDb_movies.dtypes)\n",
    "print(df_IMDb_movies.shape)\n",
    "df_IMDb_movies.head()"
   ]
  },
  {
   "cell_type": "code",
   "execution_count": 39,
   "metadata": {
    "collapsed": false,
    "scrolled": true
   },
   "outputs": [
    {
     "name": "stdout",
     "output_type": "stream",
     "text": [
      "mkid          int64\n",
      "movie_id      int64\n",
      "keyword_id    int64\n",
      "dtype: object\n",
      "(4523930, 3)\n"
     ]
    },
    {
     "data": {
      "text/html": [
       "<div>\n",
       "<style scoped>\n",
       "    .dataframe tbody tr th:only-of-type {\n",
       "        vertical-align: middle;\n",
       "    }\n",
       "\n",
       "    .dataframe tbody tr th {\n",
       "        vertical-align: top;\n",
       "    }\n",
       "\n",
       "    .dataframe thead th {\n",
       "        text-align: right;\n",
       "    }\n",
       "</style>\n",
       "<table border=\"1\" class=\"dataframe\">\n",
       "  <thead>\n",
       "    <tr style=\"text-align: right;\">\n",
       "      <th></th>\n",
       "      <th>movie_id</th>\n",
       "      <th>keyword_id</th>\n",
       "    </tr>\n",
       "  </thead>\n",
       "  <tbody>\n",
       "    <tr>\n",
       "      <td>0</td>\n",
       "      <td>2</td>\n",
       "      <td>1</td>\n",
       "    </tr>\n",
       "    <tr>\n",
       "      <td>1</td>\n",
       "      <td>11</td>\n",
       "      <td>2</td>\n",
       "    </tr>\n",
       "    <tr>\n",
       "      <td>2</td>\n",
       "      <td>22</td>\n",
       "      <td>2</td>\n",
       "    </tr>\n",
       "    <tr>\n",
       "      <td>3</td>\n",
       "      <td>44</td>\n",
       "      <td>3</td>\n",
       "    </tr>\n",
       "    <tr>\n",
       "      <td>4</td>\n",
       "      <td>24</td>\n",
       "      <td>2</td>\n",
       "    </tr>\n",
       "  </tbody>\n",
       "</table>\n",
       "</div>"
      ],
      "text/plain": [
       "   movie_id  keyword_id\n",
       "0         2           1\n",
       "1        11           2\n",
       "2        22           2\n",
       "3        44           3\n",
       "4        24           2"
      ]
     },
     "execution_count": 39,
     "metadata": {},
     "output_type": "execute_result"
    }
   ],
   "source": [
    "column_movie_keyword = [\"mkid\", \"movie_id\", \"keyword_id\"]\n",
    "\n",
    "df_movie_keywords = pd.read_csv('data/original/movie_keyword.csv', delimiter=',', names=column_movie_keyword, encoding = \"ISO-8859-1\") \n",
    "print(df_movie_keywords.dtypes)\n",
    "print(df_movie_keywords.shape)\n",
    "df_movie_keywords = df_movie_keywords.drop(columns=[\"mkid\"])\n",
    "df_movie_keywords.head()"
   ]
  },
  {
   "cell_type": "code",
   "execution_count": 40,
   "metadata": {
    "collapsed": false
   },
   "outputs": [
    {
     "name": "stdout",
     "output_type": "stream",
     "text": [
      "mcid           int64\n",
      "movie_id       int64\n",
      "company_id     int64\n",
      "ctype          int64\n",
      "note          object\n",
      "dtype: object\n",
      "(2609129, 5)\n"
     ]
    },
    {
     "data": {
      "text/html": [
       "<div>\n",
       "<style scoped>\n",
       "    .dataframe tbody tr th:only-of-type {\n",
       "        vertical-align: middle;\n",
       "    }\n",
       "\n",
       "    .dataframe tbody tr th {\n",
       "        vertical-align: top;\n",
       "    }\n",
       "\n",
       "    .dataframe thead th {\n",
       "        text-align: right;\n",
       "    }\n",
       "</style>\n",
       "<table border=\"1\" class=\"dataframe\">\n",
       "  <thead>\n",
       "    <tr style=\"text-align: right;\">\n",
       "      <th></th>\n",
       "      <th>movie_id</th>\n",
       "      <th>company_id</th>\n",
       "      <th>note</th>\n",
       "    </tr>\n",
       "  </thead>\n",
       "  <tbody>\n",
       "    <tr>\n",
       "      <td>0</td>\n",
       "      <td>2</td>\n",
       "      <td>1</td>\n",
       "      <td>(2006) (USA) (TV)</td>\n",
       "    </tr>\n",
       "    <tr>\n",
       "      <td>1</td>\n",
       "      <td>2</td>\n",
       "      <td>1</td>\n",
       "      <td>(2006) (worldwide) (TV)</td>\n",
       "    </tr>\n",
       "    <tr>\n",
       "      <td>2</td>\n",
       "      <td>11</td>\n",
       "      <td>2</td>\n",
       "      <td>(2012) (worldwide) (all media)</td>\n",
       "    </tr>\n",
       "    <tr>\n",
       "      <td>3</td>\n",
       "      <td>44</td>\n",
       "      <td>3</td>\n",
       "      <td>(2013) (USA) (all media)</td>\n",
       "    </tr>\n",
       "    <tr>\n",
       "      <td>4</td>\n",
       "      <td>50</td>\n",
       "      <td>4</td>\n",
       "      <td>(2011) (UK) (TV)</td>\n",
       "    </tr>\n",
       "  </tbody>\n",
       "</table>\n",
       "</div>"
      ],
      "text/plain": [
       "   movie_id  company_id                            note\n",
       "0         2           1               (2006) (USA) (TV)\n",
       "1         2           1         (2006) (worldwide) (TV)\n",
       "2        11           2  (2012) (worldwide) (all media)\n",
       "3        44           3        (2013) (USA) (all media)\n",
       "4        50           4                (2011) (UK) (TV)"
      ]
     },
     "execution_count": 40,
     "metadata": {},
     "output_type": "execute_result"
    }
   ],
   "source": [
    "column_movie_companies = [\"mcid\", \"movie_id\", \"company_id\", \"ctype\", \"note\"]\n",
    "\n",
    "df_movie_companies = pd.read_csv('data/original/movie_companies.csv', delimiter=',', names=column_movie_companies, encoding = \"ISO-8859-1\") \n",
    "print(df_movie_companies.dtypes)\n",
    "print(df_movie_companies.shape)\n",
    "df_movie_companies = df_movie_companies.drop(columns=[\"mcid\", \"ctype\"])\n",
    "\n",
    "df_movie_companies.head()"
   ]
  },
  {
   "cell_type": "code",
   "execution_count": 41,
   "metadata": {
    "collapsed": false
   },
   "outputs": [
    {
     "name": "stdout",
     "output_type": "stream",
     "text": [
      "company_id     int64\n",
      "name          object\n",
      "country       object\n",
      "imdb_id       object\n",
      "name_nf       object\n",
      "name_sf       object\n",
      "md5           object\n",
      "dtype: object\n",
      "(234997, 7)\n"
     ]
    },
    {
     "data": {
      "text/html": [
       "<div>\n",
       "<style scoped>\n",
       "    .dataframe tbody tr th:only-of-type {\n",
       "        vertical-align: middle;\n",
       "    }\n",
       "\n",
       "    .dataframe tbody tr th {\n",
       "        vertical-align: top;\n",
       "    }\n",
       "\n",
       "    .dataframe thead th {\n",
       "        text-align: right;\n",
       "    }\n",
       "</style>\n",
       "<table border=\"1\" class=\"dataframe\">\n",
       "  <thead>\n",
       "    <tr style=\"text-align: right;\">\n",
       "      <th></th>\n",
       "      <th>company_id</th>\n",
       "      <th>name</th>\n",
       "      <th>country</th>\n",
       "    </tr>\n",
       "  </thead>\n",
       "  <tbody>\n",
       "    <tr>\n",
       "      <td>0</td>\n",
       "      <td>34634</td>\n",
       "      <td>Comfilm.de</td>\n",
       "      <td>[de]</td>\n",
       "    </tr>\n",
       "    <tr>\n",
       "      <td>1</td>\n",
       "      <td>63635</td>\n",
       "      <td>Dusty Nose Productions</td>\n",
       "      <td>[us]</td>\n",
       "    </tr>\n",
       "    <tr>\n",
       "      <td>2</td>\n",
       "      <td>35051</td>\n",
       "      <td>WTTW National Productions</td>\n",
       "      <td>[us]</td>\n",
       "    </tr>\n",
       "    <tr>\n",
       "      <td>3</td>\n",
       "      <td>23380</td>\n",
       "      <td>Film House</td>\n",
       "      <td>[us]</td>\n",
       "    </tr>\n",
       "    <tr>\n",
       "      <td>4</td>\n",
       "      <td>31373</td>\n",
       "      <td>AVI Group</td>\n",
       "      <td>[us]</td>\n",
       "    </tr>\n",
       "  </tbody>\n",
       "</table>\n",
       "</div>"
      ],
      "text/plain": [
       "   company_id                       name country\n",
       "0       34634                 Comfilm.de    [de]\n",
       "1       63635     Dusty Nose Productions    [us]\n",
       "2       35051  WTTW National Productions    [us]\n",
       "3       23380                 Film House    [us]\n",
       "4       31373                  AVI Group    [us]"
      ]
     },
     "execution_count": 41,
     "metadata": {},
     "output_type": "execute_result"
    }
   ],
   "source": [
    "column_companies = [\"company_id\", \"name\", \"country\", \"imdb_id\", \"name_nf\", \"name_sf\", \"md5\"]\n",
    "\n",
    "df_companies = pd.read_csv('data/original/company_name.csv', delimiter=',', names=column_companies, encoding = \"ISO-8859-1\", low_memory=False) \n",
    "print(df_companies.dtypes)\n",
    "print(df_companies.shape)\n",
    "df_companies = df_companies.drop(columns=[\"imdb_id\", \"name_nf\", \"name_sf\", \"md5\"])\n",
    "df_companies.head()"
   ]
  },
  {
   "cell_type": "code",
   "execution_count": 42,
   "metadata": {
    "collapsed": false
   },
   "outputs": [
    {
     "name": "stdout",
     "output_type": "stream",
     "text": [
      "keyword_id     int64\n",
      "keyword       object\n",
      "phonetic      object\n",
      "dtype: object\n",
      "(134170, 3)\n"
     ]
    },
    {
     "data": {
      "text/html": [
       "<div>\n",
       "<style scoped>\n",
       "    .dataframe tbody tr th:only-of-type {\n",
       "        vertical-align: middle;\n",
       "    }\n",
       "\n",
       "    .dataframe tbody tr th {\n",
       "        vertical-align: top;\n",
       "    }\n",
       "\n",
       "    .dataframe thead th {\n",
       "        text-align: right;\n",
       "    }\n",
       "</style>\n",
       "<table border=\"1\" class=\"dataframe\">\n",
       "  <thead>\n",
       "    <tr style=\"text-align: right;\">\n",
       "      <th></th>\n",
       "      <th>keyword_id</th>\n",
       "      <th>keyword</th>\n",
       "    </tr>\n",
       "  </thead>\n",
       "  <tbody>\n",
       "    <tr>\n",
       "      <td>0</td>\n",
       "      <td>2068</td>\n",
       "      <td>handcuffed-to-a-bed</td>\n",
       "    </tr>\n",
       "    <tr>\n",
       "      <td>1</td>\n",
       "      <td>157</td>\n",
       "      <td>jane-austen</td>\n",
       "    </tr>\n",
       "    <tr>\n",
       "      <td>2</td>\n",
       "      <td>8309</td>\n",
       "      <td>narcotic</td>\n",
       "    </tr>\n",
       "    <tr>\n",
       "      <td>3</td>\n",
       "      <td>1059</td>\n",
       "      <td>woods</td>\n",
       "    </tr>\n",
       "    <tr>\n",
       "      <td>4</td>\n",
       "      <td>3991</td>\n",
       "      <td>hanging</td>\n",
       "    </tr>\n",
       "  </tbody>\n",
       "</table>\n",
       "</div>"
      ],
      "text/plain": [
       "   keyword_id              keyword\n",
       "0        2068  handcuffed-to-a-bed\n",
       "1         157          jane-austen\n",
       "2        8309             narcotic\n",
       "3        1059                woods\n",
       "4        3991              hanging"
      ]
     },
     "execution_count": 42,
     "metadata": {},
     "output_type": "execute_result"
    }
   ],
   "source": [
    "column_keyword = [\"keyword_id\", \"keyword\", \"phonetic\"]\n",
    "\n",
    "df_keywords = pd.read_csv('data/original/keyword.csv', delimiter=',', names=column_keyword, encoding = \"ISO-8859-1\") \n",
    "print(df_keywords.dtypes)\n",
    "print(df_keywords.shape)\n",
    "df_keywords = df_keywords.drop(columns=[\"phonetic\"])\n",
    "df_keywords.head()"
   ]
  },
  {
   "cell_type": "code",
   "execution_count": 43,
   "metadata": {
    "collapsed": false
   },
   "outputs": [
    {
     "name": "stdout",
     "output_type": "stream",
     "text": [
      "role_id       int64\n",
      "cast_role    object\n",
      "dtype: object\n",
      "(12, 2)\n"
     ]
    },
    {
     "data": {
      "text/html": [
       "<div>\n",
       "<style scoped>\n",
       "    .dataframe tbody tr th:only-of-type {\n",
       "        vertical-align: middle;\n",
       "    }\n",
       "\n",
       "    .dataframe tbody tr th {\n",
       "        vertical-align: top;\n",
       "    }\n",
       "\n",
       "    .dataframe thead th {\n",
       "        text-align: right;\n",
       "    }\n",
       "</style>\n",
       "<table border=\"1\" class=\"dataframe\">\n",
       "  <thead>\n",
       "    <tr style=\"text-align: right;\">\n",
       "      <th></th>\n",
       "      <th>role_id</th>\n",
       "      <th>cast_role</th>\n",
       "    </tr>\n",
       "  </thead>\n",
       "  <tbody>\n",
       "    <tr>\n",
       "      <td>0</td>\n",
       "      <td>1</td>\n",
       "      <td>actor</td>\n",
       "    </tr>\n",
       "    <tr>\n",
       "      <td>1</td>\n",
       "      <td>2</td>\n",
       "      <td>actress</td>\n",
       "    </tr>\n",
       "    <tr>\n",
       "      <td>2</td>\n",
       "      <td>3</td>\n",
       "      <td>producer</td>\n",
       "    </tr>\n",
       "    <tr>\n",
       "      <td>3</td>\n",
       "      <td>4</td>\n",
       "      <td>writer</td>\n",
       "    </tr>\n",
       "    <tr>\n",
       "      <td>4</td>\n",
       "      <td>5</td>\n",
       "      <td>cinematographer</td>\n",
       "    </tr>\n",
       "  </tbody>\n",
       "</table>\n",
       "</div>"
      ],
      "text/plain": [
       "   role_id        cast_role\n",
       "0        1            actor\n",
       "1        2          actress\n",
       "2        3         producer\n",
       "3        4           writer\n",
       "4        5  cinematographer"
      ]
     },
     "execution_count": 43,
     "metadata": {},
     "output_type": "execute_result"
    }
   ],
   "source": [
    "columns_roles = [\"role_id\", \"cast_role\"]\n",
    "\n",
    "df_roles = pd.read_csv('data/original/role_type.csv', delimiter=',', names=columns_roles, encoding = \"ISO-8859-1\") \n",
    "print(df_roles.dtypes)\n",
    "print(df_roles.shape)\n",
    "df_roles.head()"
   ]
  },
  {
   "cell_type": "markdown",
   "metadata": {},
   "source": [
    "---"
   ]
  },
  {
   "cell_type": "markdown",
   "metadata": {},
   "source": [
    "# Merge IMDb and MovieLens"
   ]
  },
  {
   "cell_type": "code",
   "execution_count": 44,
   "metadata": {
    "collapsed": true
   },
   "outputs": [],
   "source": [
    "pd.options.display.max_columns = 100"
   ]
  },
  {
   "cell_type": "code",
   "execution_count": 45,
   "metadata": {
    "collapsed": true
   },
   "outputs": [],
   "source": [
    "df_movies = pd.merge(df_ML_movies, df_IMDb_movies, on=[\"title\", \"release\"])\n",
    "movie_ids = list(df_movies.movie_id.unique())"
   ]
  },
  {
   "cell_type": "markdown",
   "metadata": {},
   "source": [
    "### Create separate DFs"
   ]
  },
  {
   "cell_type": "code",
   "execution_count": 16,
   "metadata": {
    "collapsed": true
   },
   "outputs": [],
   "source": [
    "df_movie = pd.merge(df_movies, df_movie_keywords, on=\"movie_id\")\n",
    "df_movie = pd.merge(df_movie, df_keywords, on=\"keyword_id\")\n",
    "\n",
    "# drop excess info\n",
    "df_movie = df_movie.drop(columns=[\"movie_id_ml\", \"keyword_id\"])"
   ]
  },
  {
   "cell_type": "code",
   "execution_count": 17,
   "metadata": {
    "collapsed": true
   },
   "outputs": [],
   "source": [
    "df_cast_people = pd.merge(df_cast, df_people, on=\"person_id\")\n",
    "df_cast_people = pd.merge(df_cast_people, df_roles, on=\"role_id\")\n",
    "\n",
    "# drop excess info\n",
    "df_cast_people = df_cast_people.drop(columns=[\"role_id\"])"
   ]
  },
  {
   "cell_type": "code",
   "execution_count": 18,
   "metadata": {
    "collapsed": true
   },
   "outputs": [],
   "source": [
    "df_movie_company = pd.merge(df_movie_companies, df_companies, on=\"company_id\")"
   ]
  },
  {
   "cell_type": "markdown",
   "metadata": {},
   "source": [
    "##### Store DFs"
   ]
  },
  {
   "cell_type": "code",
   "execution_count": 19,
   "metadata": {
    "collapsed": true
   },
   "outputs": [],
   "source": [
    "df_movie.to_csv(\"data/movies.csv\", sep=',')\n",
    "df_cast_people.to_csv(\"data/cast.csv\", sep=',')\n",
    "df_movie_company.to_csv(\"data/companies.csv\", sep=',')\n",
    "df_ratings.to_csv(\"data/ratings.csv\", sep=',')\n",
    "df_users.to_csv(\"data/users.csv\", sep=',')"
   ]
  },
  {
   "cell_type": "markdown",
   "metadata": {},
   "source": [
    "### Create unique DF (`df`) with everything"
   ]
  },
  {
   "cell_type": "markdown",
   "metadata": {},
   "source": [
    "##### Keywords"
   ]
  },
  {
   "cell_type": "code",
   "execution_count": 46,
   "metadata": {
    "collapsed": false
   },
   "outputs": [
    {
     "data": {
      "text/html": [
       "<div>\n",
       "<style scoped>\n",
       "    .dataframe tbody tr th:only-of-type {\n",
       "        vertical-align: middle;\n",
       "    }\n",
       "\n",
       "    .dataframe tbody tr th {\n",
       "        vertical-align: top;\n",
       "    }\n",
       "\n",
       "    .dataframe thead th {\n",
       "        text-align: right;\n",
       "    }\n",
       "</style>\n",
       "<table border=\"1\" class=\"dataframe\">\n",
       "  <thead>\n",
       "    <tr style=\"text-align: right;\">\n",
       "      <th></th>\n",
       "      <th>movie_id</th>\n",
       "      <th>keyword</th>\n",
       "    </tr>\n",
       "  </thead>\n",
       "  <tbody>\n",
       "    <tr>\n",
       "      <td>1305</td>\n",
       "      <td>2514213</td>\n",
       "      <td>[african-american, black-comedy, independent-f...</td>\n",
       "    </tr>\n",
       "    <tr>\n",
       "      <td>1306</td>\n",
       "      <td>2514851</td>\n",
       "      <td>[marriage, singing, secret-passage, fog, monst...</td>\n",
       "    </tr>\n",
       "    <tr>\n",
       "      <td>1307</td>\n",
       "      <td>2514912</td>\n",
       "      <td>[face-slap, gore, opening-action-scene, police...</td>\n",
       "    </tr>\n",
       "    <tr>\n",
       "      <td>1308</td>\n",
       "      <td>2514918</td>\n",
       "      <td>[number-in-title, chase, horse, courtroom, tri...</td>\n",
       "    </tr>\n",
       "    <tr>\n",
       "      <td>1309</td>\n",
       "      <td>2518973</td>\n",
       "      <td>[father-son-relationship, boy, mother-daughter...</td>\n",
       "    </tr>\n",
       "  </tbody>\n",
       "</table>\n",
       "</div>"
      ],
      "text/plain": [
       "      movie_id                                            keyword\n",
       "1305   2514213  [african-american, black-comedy, independent-f...\n",
       "1306   2514851  [marriage, singing, secret-passage, fog, monst...\n",
       "1307   2514912  [face-slap, gore, opening-action-scene, police...\n",
       "1308   2514918  [number-in-title, chase, horse, courtroom, tri...\n",
       "1309   2518973  [father-son-relationship, boy, mother-daughter..."
      ]
     },
     "execution_count": 46,
     "metadata": {},
     "output_type": "execute_result"
    }
   ],
   "source": [
    "df_movie_keyword = pd.merge(df_movie_keywords[df_movie_keywords.movie_id.isin(movie_ids)], \n",
    "                            df_keywords, \n",
    "                            on=\"keyword_id\")\n",
    "df_movie_keyword = df_movie_keyword.groupby(\"movie_id\")[\"keyword\"].apply(list).reset_index()\n",
    "df_movie_keyword.tail()"
   ]
  },
  {
   "cell_type": "markdown",
   "metadata": {},
   "source": [
    "##### Cast"
   ]
  },
  {
   "cell_type": "code",
   "execution_count": 59,
   "metadata": {
    "collapsed": false
   },
   "outputs": [
    {
     "data": {
      "text/html": [
       "<div>\n",
       "<style scoped>\n",
       "    .dataframe tbody tr th:only-of-type {\n",
       "        vertical-align: middle;\n",
       "    }\n",
       "\n",
       "    .dataframe tbody tr th {\n",
       "        vertical-align: top;\n",
       "    }\n",
       "\n",
       "    .dataframe thead th {\n",
       "        text-align: right;\n",
       "    }\n",
       "</style>\n",
       "<table border=\"1\" class=\"dataframe\">\n",
       "  <thead>\n",
       "    <tr style=\"text-align: right;\">\n",
       "      <th></th>\n",
       "      <th>movie_id</th>\n",
       "      <th>cast</th>\n",
       "    </tr>\n",
       "  </thead>\n",
       "  <tbody>\n",
       "    <tr>\n",
       "      <td>1441</td>\n",
       "      <td>2514851</td>\n",
       "      <td>[{\"cast_id\": 19591, \"person_id\": 3585, \"cast_n...</td>\n",
       "    </tr>\n",
       "    <tr>\n",
       "      <td>1442</td>\n",
       "      <td>2514912</td>\n",
       "      <td>[{\"cast_id\": 1071322, \"person_id\": 149810, \"ca...</td>\n",
       "    </tr>\n",
       "    <tr>\n",
       "      <td>1443</td>\n",
       "      <td>2514918</td>\n",
       "      <td>[{\"cast_id\": 51322, \"person_id\": 8407, \"cast_n...</td>\n",
       "    </tr>\n",
       "    <tr>\n",
       "      <td>1444</td>\n",
       "      <td>2517779</td>\n",
       "      <td>[{\"cast_id\": 661650, \"person_id\": 94062, \"cast...</td>\n",
       "    </tr>\n",
       "    <tr>\n",
       "      <td>1445</td>\n",
       "      <td>2518973</td>\n",
       "      <td>[{\"cast_id\": 2224429, \"person_id\": 299710, \"ca...</td>\n",
       "    </tr>\n",
       "  </tbody>\n",
       "</table>\n",
       "</div>"
      ],
      "text/plain": [
       "      movie_id                                               cast\n",
       "1441   2514851  [{\"cast_id\": 19591, \"person_id\": 3585, \"cast_n...\n",
       "1442   2514912  [{\"cast_id\": 1071322, \"person_id\": 149810, \"ca...\n",
       "1443   2514918  [{\"cast_id\": 51322, \"person_id\": 8407, \"cast_n...\n",
       "1444   2517779  [{\"cast_id\": 661650, \"person_id\": 94062, \"cast...\n",
       "1445   2518973  [{\"cast_id\": 2224429, \"person_id\": 299710, \"ca..."
      ]
     },
     "execution_count": 59,
     "metadata": {},
     "output_type": "execute_result"
    }
   ],
   "source": [
    "df_movie_cast = pd.merge(df_cast[df_cast.movie_id.isin(movie_ids)], \n",
    "                         df_people, \n",
    "                         on=\"person_id\")\n",
    "df_movie_cast = pd.merge(df_movie_cast, \n",
    "                         df_roles, \n",
    "                         on=\"role_id\")\n",
    "df_movie_cast.head()\n",
    "df_movie_cast = df_movie_cast.groupby(\"movie_id\")[[\"cast_id\", \"person_id\", \"cast_name\", \"cast_gender\", \"cast_role\"]].apply(lambda x: json.dumps(list(x.T.to_dict().values()))).reset_index()\n",
    "df_movie_cast.rename(columns={0: \"cast\"}, inplace=True)\n",
    "df_movie_cast.tail()"
   ]
  },
  {
   "cell_type": "markdown",
   "metadata": {},
   "source": [
    "##### Companies"
   ]
  },
  {
   "cell_type": "code",
   "execution_count": 60,
   "metadata": {
    "collapsed": false
   },
   "outputs": [
    {
     "data": {
      "text/html": [
       "<div>\n",
       "<style scoped>\n",
       "    .dataframe tbody tr th:only-of-type {\n",
       "        vertical-align: middle;\n",
       "    }\n",
       "\n",
       "    .dataframe tbody tr th {\n",
       "        vertical-align: top;\n",
       "    }\n",
       "\n",
       "    .dataframe thead th {\n",
       "        text-align: right;\n",
       "    }\n",
       "</style>\n",
       "<table border=\"1\" class=\"dataframe\">\n",
       "  <thead>\n",
       "    <tr style=\"text-align: right;\">\n",
       "      <th></th>\n",
       "      <th>movie_id</th>\n",
       "      <th>company</th>\n",
       "    </tr>\n",
       "  </thead>\n",
       "  <tbody>\n",
       "    <tr>\n",
       "      <td>1368</td>\n",
       "      <td>2514851</td>\n",
       "      <td>[{\"company_id\": 19, \"name\": \"National Broadcas...</td>\n",
       "    </tr>\n",
       "    <tr>\n",
       "      <td>1369</td>\n",
       "      <td>2514912</td>\n",
       "      <td>[{\"company_id\": 49, \"name\": \"Fox Network\", \"co...</td>\n",
       "    </tr>\n",
       "    <tr>\n",
       "      <td>1370</td>\n",
       "      <td>2514918</td>\n",
       "      <td>[{\"company_id\": 6, \"name\": \"Columbia Broadcast...</td>\n",
       "    </tr>\n",
       "    <tr>\n",
       "      <td>1371</td>\n",
       "      <td>2517779</td>\n",
       "      <td>[{\"company_id\": 77174, \"name\": \"PRF \\\\Zespol F...</td>\n",
       "    </tr>\n",
       "    <tr>\n",
       "      <td>1372</td>\n",
       "      <td>2518973</td>\n",
       "      <td>[{\"company_id\": 159, \"name\": \"Metro-Goldwyn-Ma...</td>\n",
       "    </tr>\n",
       "  </tbody>\n",
       "</table>\n",
       "</div>"
      ],
      "text/plain": [
       "      movie_id                                            company\n",
       "1368   2514851  [{\"company_id\": 19, \"name\": \"National Broadcas...\n",
       "1369   2514912  [{\"company_id\": 49, \"name\": \"Fox Network\", \"co...\n",
       "1370   2514918  [{\"company_id\": 6, \"name\": \"Columbia Broadcast...\n",
       "1371   2517779  [{\"company_id\": 77174, \"name\": \"PRF \\\\Zespol F...\n",
       "1372   2518973  [{\"company_id\": 159, \"name\": \"Metro-Goldwyn-Ma..."
      ]
     },
     "execution_count": 60,
     "metadata": {},
     "output_type": "execute_result"
    }
   ],
   "source": [
    "# df_movie_companies, df_companies\n",
    "df_movie_company = pd.merge(df_movie_companies[df_movie_companies.movie_id.isin(movie_ids)], \n",
    "                              df_companies, \n",
    "                              on=\"company_id\")\n",
    "\n",
    "df_movie_company = df_movie_company.groupby(\"movie_id\")[[\"company_id\", \"name\", \"country\", \"note\"]].apply(lambda x: json.dumps(list(x.T.to_dict().values()))).reset_index()\n",
    "df_movie_company.rename(columns={0: \"company\"}, inplace=True)\n",
    "df_movie_company.tail()"
   ]
  },
  {
   "cell_type": "markdown",
   "metadata": {},
   "source": [
    "### Merge 3 above DFs into main movie DF"
   ]
  },
  {
   "cell_type": "code",
   "execution_count": 61,
   "metadata": {
    "collapsed": false
   },
   "outputs": [
    {
     "name": "stdout",
     "output_type": "stream",
     "text": [
      "(1326, 25)\n",
      "(1326, 26)\n"
     ]
    },
    {
     "data": {
      "text/html": [
       "<div>\n",
       "<style scoped>\n",
       "    .dataframe tbody tr th:only-of-type {\n",
       "        vertical-align: middle;\n",
       "    }\n",
       "\n",
       "    .dataframe tbody tr th {\n",
       "        vertical-align: top;\n",
       "    }\n",
       "\n",
       "    .dataframe thead th {\n",
       "        text-align: right;\n",
       "    }\n",
       "</style>\n",
       "<table border=\"1\" class=\"dataframe\">\n",
       "  <thead>\n",
       "    <tr style=\"text-align: right;\">\n",
       "      <th></th>\n",
       "      <th>movie_id_ml</th>\n",
       "      <th>title</th>\n",
       "      <th>release</th>\n",
       "      <th>url</th>\n",
       "      <th>unknown</th>\n",
       "      <th>action</th>\n",
       "      <th>adventure</th>\n",
       "      <th>animation</th>\n",
       "      <th>childrens</th>\n",
       "      <th>comedy</th>\n",
       "      <th>crime</th>\n",
       "      <th>documentary</th>\n",
       "      <th>drama</th>\n",
       "      <th>fantasy</th>\n",
       "      <th>noir</th>\n",
       "      <th>horror</th>\n",
       "      <th>musical</th>\n",
       "      <th>mystery</th>\n",
       "      <th>romance</th>\n",
       "      <th>scifi</th>\n",
       "      <th>thriller</th>\n",
       "      <th>war</th>\n",
       "      <th>western</th>\n",
       "      <th>movie_id</th>\n",
       "      <th>keyword</th>\n",
       "      <th>cast</th>\n",
       "      <th>company</th>\n",
       "    </tr>\n",
       "  </thead>\n",
       "  <tbody>\n",
       "    <tr>\n",
       "      <td>0</td>\n",
       "      <td>1</td>\n",
       "      <td>toy story</td>\n",
       "      <td>1995</td>\n",
       "      <td>http://us.imdb.com/M/title-exact?Toy%20Story%2...</td>\n",
       "      <td>0</td>\n",
       "      <td>0</td>\n",
       "      <td>0</td>\n",
       "      <td>1</td>\n",
       "      <td>1</td>\n",
       "      <td>1</td>\n",
       "      <td>0</td>\n",
       "      <td>0</td>\n",
       "      <td>0</td>\n",
       "      <td>0</td>\n",
       "      <td>0</td>\n",
       "      <td>0</td>\n",
       "      <td>0</td>\n",
       "      <td>0</td>\n",
       "      <td>0</td>\n",
       "      <td>0</td>\n",
       "      <td>0</td>\n",
       "      <td>0</td>\n",
       "      <td>0</td>\n",
       "      <td>2445635</td>\n",
       "      <td>[walkie-talkie, boy, slow-motion, villain-turn...</td>\n",
       "      <td>[{\"cast_id\": 193929, \"person_id\": 30260, \"cast...</td>\n",
       "      <td>[{\"company_id\": 34, \"name\": \"Warner Home Video...</td>\n",
       "    </tr>\n",
       "    <tr>\n",
       "      <td>1</td>\n",
       "      <td>2</td>\n",
       "      <td>goldeneye</td>\n",
       "      <td>1995</td>\n",
       "      <td>http://us.imdb.com/M/title-exact?GoldenEye%20(...</td>\n",
       "      <td>0</td>\n",
       "      <td>1</td>\n",
       "      <td>1</td>\n",
       "      <td>0</td>\n",
       "      <td>0</td>\n",
       "      <td>0</td>\n",
       "      <td>0</td>\n",
       "      <td>0</td>\n",
       "      <td>0</td>\n",
       "      <td>0</td>\n",
       "      <td>0</td>\n",
       "      <td>0</td>\n",
       "      <td>0</td>\n",
       "      <td>0</td>\n",
       "      <td>0</td>\n",
       "      <td>0</td>\n",
       "      <td>1</td>\n",
       "      <td>0</td>\n",
       "      <td>0</td>\n",
       "      <td>1923289</td>\n",
       "      <td>[car-chase, good-versus-evil, 1990s, blockbust...</td>\n",
       "      <td>[{\"cast_id\": 586283, \"person_id\": 83451, \"cast...</td>\n",
       "      <td>[{\"company_id\": 19, \"name\": \"National Broadcas...</td>\n",
       "    </tr>\n",
       "    <tr>\n",
       "      <td>2</td>\n",
       "      <td>3</td>\n",
       "      <td>four rooms</td>\n",
       "      <td>1995</td>\n",
       "      <td>http://us.imdb.com/M/title-exact?Four%20Rooms%...</td>\n",
       "      <td>0</td>\n",
       "      <td>0</td>\n",
       "      <td>0</td>\n",
       "      <td>0</td>\n",
       "      <td>0</td>\n",
       "      <td>0</td>\n",
       "      <td>0</td>\n",
       "      <td>0</td>\n",
       "      <td>0</td>\n",
       "      <td>0</td>\n",
       "      <td>0</td>\n",
       "      <td>0</td>\n",
       "      <td>0</td>\n",
       "      <td>0</td>\n",
       "      <td>0</td>\n",
       "      <td>0</td>\n",
       "      <td>1</td>\n",
       "      <td>0</td>\n",
       "      <td>0</td>\n",
       "      <td>1900170</td>\n",
       "      <td>[number-in-title, title-directed-by-female, ci...</td>\n",
       "      <td>[{\"cast_id\": 629008, \"person_id\": 89615, \"cast...</td>\n",
       "      <td>[{\"company_id\": 11745, \"name\": \"Laurenfilm\", \"...</td>\n",
       "    </tr>\n",
       "    <tr>\n",
       "      <td>3</td>\n",
       "      <td>4</td>\n",
       "      <td>get shorty</td>\n",
       "      <td>1995</td>\n",
       "      <td>http://us.imdb.com/M/title-exact?Get%20Shorty%...</td>\n",
       "      <td>0</td>\n",
       "      <td>1</td>\n",
       "      <td>0</td>\n",
       "      <td>0</td>\n",
       "      <td>0</td>\n",
       "      <td>1</td>\n",
       "      <td>0</td>\n",
       "      <td>0</td>\n",
       "      <td>1</td>\n",
       "      <td>0</td>\n",
       "      <td>0</td>\n",
       "      <td>0</td>\n",
       "      <td>0</td>\n",
       "      <td>0</td>\n",
       "      <td>0</td>\n",
       "      <td>0</td>\n",
       "      <td>0</td>\n",
       "      <td>0</td>\n",
       "      <td>0</td>\n",
       "      <td>1915485</td>\n",
       "      <td>[actress, father-daughter-relationship, restau...</td>\n",
       "      <td>[{\"cast_id\": 1341029, \"person_id\": 184099, \"ca...</td>\n",
       "      <td>[{\"company_id\": 19, \"name\": \"National Broadcas...</td>\n",
       "    </tr>\n",
       "    <tr>\n",
       "      <td>4</td>\n",
       "      <td>5</td>\n",
       "      <td>copycat</td>\n",
       "      <td>1995</td>\n",
       "      <td>http://us.imdb.com/M/title-exact?Copycat%20(1995)</td>\n",
       "      <td>0</td>\n",
       "      <td>0</td>\n",
       "      <td>0</td>\n",
       "      <td>0</td>\n",
       "      <td>0</td>\n",
       "      <td>0</td>\n",
       "      <td>1</td>\n",
       "      <td>0</td>\n",
       "      <td>1</td>\n",
       "      <td>0</td>\n",
       "      <td>0</td>\n",
       "      <td>0</td>\n",
       "      <td>0</td>\n",
       "      <td>0</td>\n",
       "      <td>0</td>\n",
       "      <td>0</td>\n",
       "      <td>1</td>\n",
       "      <td>0</td>\n",
       "      <td>0</td>\n",
       "      <td>1788620</td>\n",
       "      <td>[mother-son-relationship, san-francisco-califo...</td>\n",
       "      <td>[{\"cast_id\": 643068, \"person_id\": 91412, \"cast...</td>\n",
       "      <td>[{\"company_id\": 34, \"name\": \"Warner Home Video...</td>\n",
       "    </tr>\n",
       "  </tbody>\n",
       "</table>\n",
       "</div>"
      ],
      "text/plain": [
       "   movie_id_ml       title release  \\\n",
       "0            1   toy story    1995   \n",
       "1            2   goldeneye    1995   \n",
       "2            3  four rooms    1995   \n",
       "3            4  get shorty    1995   \n",
       "4            5     copycat    1995   \n",
       "\n",
       "                                                 url  unknown  action  \\\n",
       "0  http://us.imdb.com/M/title-exact?Toy%20Story%2...        0       0   \n",
       "1  http://us.imdb.com/M/title-exact?GoldenEye%20(...        0       1   \n",
       "2  http://us.imdb.com/M/title-exact?Four%20Rooms%...        0       0   \n",
       "3  http://us.imdb.com/M/title-exact?Get%20Shorty%...        0       1   \n",
       "4  http://us.imdb.com/M/title-exact?Copycat%20(1995)        0       0   \n",
       "\n",
       "   adventure  animation  childrens  comedy  crime  documentary  drama  \\\n",
       "0          0          1          1       1      0            0      0   \n",
       "1          1          0          0       0      0            0      0   \n",
       "2          0          0          0       0      0            0      0   \n",
       "3          0          0          0       1      0            0      1   \n",
       "4          0          0          0       0      1            0      1   \n",
       "\n",
       "   fantasy  noir  horror  musical  mystery  romance  scifi  thriller  war  \\\n",
       "0        0     0       0        0        0        0      0         0    0   \n",
       "1        0     0       0        0        0        0      0         1    0   \n",
       "2        0     0       0        0        0        0      0         1    0   \n",
       "3        0     0       0        0        0        0      0         0    0   \n",
       "4        0     0       0        0        0        0      0         1    0   \n",
       "\n",
       "   western  movie_id                                            keyword  \\\n",
       "0        0   2445635  [walkie-talkie, boy, slow-motion, villain-turn...   \n",
       "1        0   1923289  [car-chase, good-versus-evil, 1990s, blockbust...   \n",
       "2        0   1900170  [number-in-title, title-directed-by-female, ci...   \n",
       "3        0   1915485  [actress, father-daughter-relationship, restau...   \n",
       "4        0   1788620  [mother-son-relationship, san-francisco-califo...   \n",
       "\n",
       "                                                cast  \\\n",
       "0  [{\"cast_id\": 193929, \"person_id\": 30260, \"cast...   \n",
       "1  [{\"cast_id\": 586283, \"person_id\": 83451, \"cast...   \n",
       "2  [{\"cast_id\": 629008, \"person_id\": 89615, \"cast...   \n",
       "3  [{\"cast_id\": 1341029, \"person_id\": 184099, \"ca...   \n",
       "4  [{\"cast_id\": 643068, \"person_id\": 91412, \"cast...   \n",
       "\n",
       "                                             company  \n",
       "0  [{\"company_id\": 34, \"name\": \"Warner Home Video...  \n",
       "1  [{\"company_id\": 19, \"name\": \"National Broadcas...  \n",
       "2  [{\"company_id\": 11745, \"name\": \"Laurenfilm\", \"...  \n",
       "3  [{\"company_id\": 19, \"name\": \"National Broadcas...  \n",
       "4  [{\"company_id\": 34, \"name\": \"Warner Home Video...  "
      ]
     },
     "execution_count": 61,
     "metadata": {},
     "output_type": "execute_result"
    }
   ],
   "source": [
    "df = pd.merge(df_movies, df_movie_keyword, on=\"movie_id\")\n",
    "print(df.shape)\n",
    "df = pd.merge(df, df_movie_cast, on=\"movie_id\")\n",
    "print(df.shape)\n",
    "df = pd.merge(df, df_movie_company, on=\"movie_id\")\n",
    "df.head()"
   ]
  },
  {
   "cell_type": "markdown",
   "metadata": {},
   "source": [
    "##### Store new DFs"
   ]
  },
  {
   "cell_type": "code",
   "execution_count": 62,
   "metadata": {
    "collapsed": true
   },
   "outputs": [],
   "source": [
    "df.to_csv(\"data/movies_cast_company.csv\", encoding=\"utf8\")"
   ]
  },
  {
   "cell_type": "markdown",
   "metadata": {},
   "source": [
    "---"
   ]
  },
  {
   "cell_type": "markdown",
   "metadata": {},
   "source": [
    "# Read new DFs"
   ]
  },
  {
   "cell_type": "code",
   "execution_count": null,
   "metadata": {
    "collapsed": true
   },
   "outputs": [],
   "source": [
    "import pandas as pd"
   ]
  },
  {
   "cell_type": "code",
   "execution_count": null,
   "metadata": {
    "collapsed": true
   },
   "outputs": [],
   "source": [
    "df_movies_all = pd.read_csv(\"data/movies.csv\", sep=',')\n",
    "df_cast_people = pd.read_csv(\"data/cast.csv\", sep=',')\n",
    "df_movie_companies = pd.read_csv(\"data/companies.csv\", sep=',')\n",
    "df_ratings = pd.read_csv(\"data/ratings.csv\", sep=',')\n",
    "df_users = pd.read_csv(\"data/users.csv\", sep=',')"
   ]
  },
  {
   "cell_type": "code",
   "execution_count": null,
   "metadata": {
    "collapsed": true
   },
   "outputs": [],
   "source": [
    "import pandas_profiling"
   ]
  },
  {
   "cell_type": "code",
   "execution_count": null,
   "metadata": {
    "collapsed": true
   },
   "outputs": [],
   "source": [
    "profile_movies = df_movies_all.profile_report(title='Movies Report')\n",
    "profile_movies.to_file(output_file=\"data/movies_report.html\")"
   ]
  },
  {
   "cell_type": "code",
   "execution_count": null,
   "metadata": {
    "collapsed": true
   },
   "outputs": [],
   "source": [
    "profile_cast = df_cast_people.profile_report(title='Cast Report')\n",
    "profile_cast.to_file(output_file=\"data/cast_report.html\")"
   ]
  },
  {
   "cell_type": "code",
   "execution_count": null,
   "metadata": {
    "collapsed": true
   },
   "outputs": [],
   "source": [
    "profile_companies = df_movie_companies.profile_report(title='Companies Report')\n",
    "profile_companies.to_file(output_file=\"data/companies_report.html\")"
   ]
  },
  {
   "cell_type": "code",
   "execution_count": null,
   "metadata": {
    "collapsed": true
   },
   "outputs": [],
   "source": [
    "profile_ratings = df_ratings.profile_report(title='Ratings Report')\n",
    "profile_ratings.to_file(output_file=\"data/ratings_report.html\")"
   ]
  },
  {
   "cell_type": "code",
   "execution_count": null,
   "metadata": {
    "collapsed": true
   },
   "outputs": [],
   "source": [
    "profile_users = df_users.profile_report(title='Users Report')\n",
    "profile_users.to_file(output_file=\"data/users_report.html\")"
   ]
  }
 ],
 "metadata": {
  "anaconda-cloud": {},
  "kernelspec": {
   "display_name": "Python [default]",
   "language": "python",
   "name": "python3"
  },
  "language_info": {
   "codemirror_mode": {
    "name": "ipython",
    "version": 3
   },
   "file_extension": ".py",
   "mimetype": "text/x-python",
   "name": "python",
   "nbconvert_exporter": "python",
   "pygments_lexer": "ipython3",
   "version": "3.5.2"
  }
 },
 "nbformat": 4,
 "nbformat_minor": 2
}
